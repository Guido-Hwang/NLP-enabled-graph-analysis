{
 "cells": [
  {
   "cell_type": "markdown",
   "source": [
    "# 计算准确率"
   ],
   "metadata": {
    "collapsed": false
   }
  },
  {
   "cell_type": "code",
   "execution_count": 6,
   "outputs": [],
   "source": [
    "data=[]\n",
    "with open('guido_result_train.txt', 'r', encoding='utf8') as file:\n",
    "    tmp_data = file.read()\n",
    "tmp = tmp_data.split('\\n\\n')\n",
    "y_true = []\n",
    "y_pred = []\n",
    "for index, line in enumerate(tmp):\n",
    "    _data = line.split('\\n')\n",
    "    _list1 = []\n",
    "    _list2 = []\n",
    "    _list3 = []\n",
    "    for cell in _data:\n",
    "        if not cell:\n",
    "            continue\n",
    "        _tmp = cell.split()\n",
    "        _list1.append(_tmp[0])\n",
    "        _list2.append(_tmp[1])\n",
    "        _list3.append(_tmp[2])\n",
    "        y_true.append(_tmp[1])\n",
    "        y_pred.append(_tmp[2])\n",
    "    data.append((_list1, _list2,_list3))"
   ],
   "metadata": {
    "collapsed": false,
    "pycharm": {
     "name": "#%%\n"
    }
   }
  },
  {
   "cell_type": "code",
   "execution_count": 7,
   "outputs": [
    {
     "name": "stdout",
     "output_type": "stream",
     "text": [
      "0.9511968480523342\n",
      "25591\n"
     ]
    }
   ],
   "source": [
    "import numpy as np\n",
    "from sklearn.metrics import accuracy_score\n",
    "\n",
    "print(accuracy_score(y_true, y_pred))  # 0.5\n",
    "print(accuracy_score(y_true, y_pred, normalize=False))  # 2\n"
   ],
   "metadata": {
    "collapsed": false,
    "pycharm": {
     "name": "#%%\n"
    }
   }
  },
  {
   "cell_type": "code",
   "execution_count": 8,
   "outputs": [
    {
     "name": "stdout",
     "output_type": "stream",
     "text": [
      "0.8507497423767283\n",
      "0.9511968480523342\n",
      "0.9518613748892651\n",
      "[0.81568627 0.90524355 0.76470588 0.78817451 0.9799385 ]\n"
     ]
    }
   ],
   "source": [
    "from sklearn.metrics import precision_score\n",
    "print(precision_score(y_true, y_pred, average='macro'))  # 0.2222222222222222\n",
    "print(precision_score(y_true, y_pred, average='micro'))  # 0.3333333333333333\n",
    "print(precision_score(y_true, y_pred, average='weighted'))  # 0.2222222222222222\n",
    "print(precision_score(y_true, y_pred, average=None))"
   ],
   "metadata": {
    "collapsed": false,
    "pycharm": {
     "name": "#%%\n"
    }
   }
  },
  {
   "cell_type": "markdown",
   "source": [
    "![1](./1.png)\n"
   ],
   "metadata": {
    "collapsed": false
   }
  }
 ],
 "metadata": {
  "kernelspec": {
   "display_name": "Python 3",
   "language": "python",
   "name": "python3"
  },
  "language_info": {
   "codemirror_mode": {
    "name": "ipython",
    "version": 2
   },
   "file_extension": ".py",
   "mimetype": "text/x-python",
   "name": "python",
   "nbconvert_exporter": "python",
   "pygments_lexer": "ipython2",
   "version": "2.7.6"
  }
 },
 "nbformat": 4,
 "nbformat_minor": 0
}
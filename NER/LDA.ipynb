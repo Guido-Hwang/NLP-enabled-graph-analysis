{
 "cells": [
  {
   "cell_type": "code",
   "execution_count": 13,
   "metadata": {
    "collapsed": true
   },
   "outputs": [],
   "source": [
    "from gensim.models.coherencemodel import CoherenceModel\n",
    "from gensim.models.ldamodel import LdaModel\n",
    "from gensim.corpora.dictionary import Dictionary\n",
    "from numpy import array\n",
    "from tqdm import tqdm\n",
    "import pandas as pd\n",
    "import jieba\n",
    "import jieba.analyse\n",
    "import jieba.posseg\n",
    "import numpy as np\n",
    "import gensim\n",
    "from gensim import corpora, models, similarities\n",
    "import logging\n",
    "import matplotlib.pyplot as plt\n",
    "import seaborn as sns\n",
    "%matplotlib inline\n",
    "plt.style.use({'figure.figsize':(12, 12)}) # 画布大小\n",
    "sns.set_style('whitegrid')  # 风格样式\n",
    "# 支持中文\n",
    "plt.rcParams['font.sans-serif'] = ['SimHei']  # 用来正常显示中文标签\n",
    "plt.rcParams['axes.unicode_minus'] = False  # 用来正常\n",
    "\n",
    "import NLP\n",
    "user_document=pd.read_csv(f\"{NLP.data_path}user_document.csv\", encoding='utf_8_sig' )\n"
   ]
  },
  {
   "cell_type": "markdown",
   "source": [
    "# token\n",
    "# 去除TF较高和较低的词\n",
    "(没有特别意义的词)"
   ],
   "metadata": {
    "collapsed": false
   }
  },
  {
   "cell_type": "code",
   "source": [
    "# 创建停用词列表\n",
    "def stopwordslist():\n",
    "    stopwords = [line.strip() for line in open('stop_words.txt', encoding='UTF-8').readlines()]\n",
    "    return stopwords\n",
    "# 对句子进行中文分词\n",
    "def seg_depart(sentence):\n",
    "    # 对文档中的每一行进行中文分词\n",
    "    sentence_depart = jieba.cut(sentence.strip())\n",
    "    outstr = ''\n",
    "    # 去停用词\n",
    "    for word in sentence_depart:\n",
    "        if word not in stopwords:\n",
    "            if word != '\\t':\n",
    "                outstr += word\n",
    "                outstr += \" \"\n",
    "    return outstr\n",
    "# 创建一个停用词列表\n",
    "stopwords = stopwordslist()\n",
    "for key in ['手机','推荐','不错','贴水', '感觉','真的','沸腾']:\n",
    "    stopwords.append(key)"
   ],
   "metadata": {
    "collapsed": false,
    "pycharm": {
     "name": "#%%\n"
    }
   },
   "execution_count": 14,
   "outputs": []
  },
  {
   "cell_type": "code",
   "execution_count": 15,
   "outputs": [
    {
     "name": "stderr",
     "output_type": "stream",
     "text": [
      "30803it [00:13, 2205.62it/s]\n"
     ]
    }
   ],
   "source": [
    "user_document['token']=None\n",
    "for index,row in tqdm(user_document.iterrows()):\n",
    "    line_seg = seg_depart(row['sentence'])\n",
    "    user_document.at[index,'token']=line_seg"
   ],
   "metadata": {
    "collapsed": false,
    "pycharm": {
     "name": "#%%\n"
    }
   }
  },
  {
   "cell_type": "code",
   "execution_count": 16,
   "outputs": [
    {
     "name": "stdout",
     "output_type": "stream",
     "text": [
      "(335,)\n"
     ]
    }
   ],
   "source": [
    "print(user_document[user_document['token'].str.contains('手机')]['token'].shape)"
   ],
   "metadata": {
    "collapsed": false,
    "pycharm": {
     "name": "#%%\n"
    }
   }
  },
  {
   "cell_type": "markdown",
   "source": [
    "# ~~以每一句输入作为文档~~ 短文本不适合\n",
    "# 以每个人的所有评论作为输入"
   ],
   "metadata": {
    "collapsed": false
   }
  },
  {
   "cell_type": "code",
   "execution_count": 17,
   "outputs": [
    {
     "name": "stderr",
     "output_type": "stream",
     "text": [
      "100%|██████████| 16186/16186 [00:11<00:00, 1389.76it/s]\n"
     ]
    },
    {
     "name": "stdout",
     "output_type": "stream",
     "text": [
      "2.开始读入语料数据 ------ \n"
     ]
    }
   ],
   "source": [
    "print('2.开始读入语料数据 ------ ')\n",
    "from tqdm import tqdm\n",
    "user_all_comment=pd.DataFrame(columns=['author_user_name','docs','token'])\n",
    "for name,group in tqdm(user_document.groupby('author_user_name')):\n",
    "    index=user_all_comment.shape[0]\n",
    "    user_all_comment.at[index,'author_user_name']=name\n",
    "    user_all_comment.at[index,'docs']=group['sentence'].tolist()\n",
    "    result=[]\n",
    "    for cell in group['token'].tolist():\n",
    "        result.extend(cell.split(' '))\n",
    "    user_all_comment.at[index,'token']= result\n",
    "    # break"
   ],
   "metadata": {
    "collapsed": false,
    "pycharm": {
     "name": "#%%\n"
    }
   }
  },
  {
   "cell_type": "code",
   "execution_count": 18,
   "outputs": [],
   "source": [
    "user_all_comment.to_csv(f'user_all_comment.csv', encoding='utf_8_sig', index=False)"
   ],
   "metadata": {
    "collapsed": false,
    "pycharm": {
     "name": "#%%\n"
    }
   }
  },
  {
   "cell_type": "code",
   "execution_count": 19,
   "outputs": [],
   "source": [
    "docs=user_all_comment['token'].tolist()"
   ],
   "metadata": {
    "collapsed": false,
    "pycharm": {
     "name": "#%%\n"
    }
   }
  },
  {
   "cell_type": "code",
   "execution_count": 20,
   "outputs": [
    {
     "name": "stdout",
     "output_type": "stream",
     "text": [
      "有16186个文档\n"
     ]
    }
   ],
   "source": [
    "# Tokenize the documents.\n",
    "from nltk.tokenize import RegexpTokenizer\n",
    "# Remove numbers, but not words that contain numbers.\n",
    "docs = [[token for token in doc if not token.isnumeric()] for doc in docs]\n",
    "# Remove words that are only one character.\n",
    "docs = [[token for token in doc if len(token) > 1] for doc in docs]\n",
    "print(f'有{len(docs)}个文档')\n",
    "\n",
    "# 建立字典\n",
    "dictionary = corpora.Dictionary(docs)\n",
    "# 转换文本数据为索引，并计数 ,做映射 相当于词袋\n",
    "corpus = [dictionary.doc2bow(text) for text in docs]\n"
   ],
   "metadata": {
    "collapsed": false,
    "pycharm": {
     "name": "#%%\n"
    }
   }
  },
  {
   "cell_type": "markdown",
   "source": [
    "# 做不同人群的LDA\n",
    "# 挑选一个最大的值"
   ],
   "metadata": {
    "collapsed": false
   }
  },
  {
   "cell_type": "code",
   "execution_count": 31,
   "outputs": [
    {
     "name": "stderr",
     "output_type": "stream",
     "text": [
      "C:\\Users\\16691\\anaconda3\\lib\\site-packages\\ipykernel\\ipkernel.py:287: DeprecationWarning: `should_run_async` will not call `transform_cell` automatically in the future. Please pass the result to `transformed_cell` argument and any exception that happen during thetransform in `preprocessing_exc_tuple` in IPython 7.17 and above.\n",
      "  and should_run_async(code)\n",
      "100%|██████████| 29/29 [02:40<00:00,  5.52s/it]\n"
     ]
    },
    {
     "name": "stdout",
     "output_type": "stream",
     "text": [
      "[-2.621253799475166, -2.8041724224294526, -3.1267178363215926, -3.2344833742377226, -3.571245722745958, -5.241652367871958, -4.238077077781596, -5.380511357343918, -5.753521370465232, -5.455144395159382, -5.134695157494592, -5.252596298906858, -6.226316516423325, -5.612208390778025, -6.715244994737014, -6.5869888830342225, -6.332364798552537, -6.48559165819925, -6.760715842162811, -7.018166524213129, -6.719389495191133, -7.263360142686434, -7.459388635669797, -6.628645509851869, -7.31559823151191, -7.746296415702005, -7.360805180016971, -7.463862951979533, -7.530562038417711]\n"
     ]
    },
    {
     "data": {
      "text/plain": "<Figure size 864x864 with 1 Axes>",
      "image/png": "[encoded data removed]"
     },
     "metadata": {},
     "output_type": "display_data"
    }
   ],
   "source": [
    "from tqdm import tqdm\n",
    "import numpy as np\n",
    "iterations=1000\n",
    "\n",
    "def lda_diff_people(corpus,dictionary,test_iterations):\n",
    "    '''\n",
    "\n",
    "    :param corpus:\n",
    "    :param dictionary:\n",
    "    :param test_iterations: 控制实验迭代次数\n",
    "    :return:\n",
    "    '''\n",
    "    coherence=[]\n",
    "    perplexity=[]\n",
    "    for i in tqdm(range(1,test_iterations)):\n",
    "        # print(f'主题个数为{i}个')\n",
    "        num_topics=i\n",
    "        lda= gensim.models.ldamodel.LdaModel(corpus=corpus,id2word=dictionary,num_topics=num_topics,iterations=iterations)\n",
    "        perplexity.append( lda.log_perplexity(corpus))\n",
    "        lda_cm= CoherenceModel(model=lda, corpus=corpus, dictionary=dictionary, coherence='u_mass')\n",
    "        coherence.append(lda_cm.get_coherence())\n",
    "\n",
    "    print(coherence)\n",
    "    plt.plot(range(len(coherence)),coherence,label='coherence')\n",
    "    plt.plot(range(len(perplexity)),perplexity,label='perplexity')\n",
    "    plt.title(f'{test_iterations}次迭代实验 coherence的平均值是{np.mean(coherence)}')\n",
    "    plt.legend()\n",
    "    # plt.savefig(f'{info_path}lda_comment.png')\n",
    "    plt.savefig(f'lda_comment.png')\n",
    "    plt.show()\n",
    "    return coherence\n",
    "\n",
    "tmp=lda_diff_people(corpus,dictionary,30)"
   ],
   "metadata": {
    "collapsed": false,
    "pycharm": {
     "name": "#%%\n"
    }
   }
  },
  {
   "cell_type": "code",
   "execution_count": 11,
   "outputs": [
    {
     "ename": "KeyError",
     "evalue": "'token2id'",
     "output_type": "error",
     "traceback": [
      "\u001B[1;31m---------------------------------------------------------------------------\u001B[0m",
      "\u001B[1;31mKeyError\u001B[0m                                  Traceback (most recent call last)",
      "\u001B[1;32m<ipython-input-11-08e4c2eae751>\u001B[0m in \u001B[0;36m<module>\u001B[1;34m\u001B[0m\n\u001B[1;32m----> 1\u001B[1;33m \u001B[0mprint\u001B[0m\u001B[1;33m(\u001B[0m\u001B[0mdictionary\u001B[0m\u001B[1;33m[\u001B[0m\u001B[1;34m'token2id'\u001B[0m\u001B[1;33m]\u001B[0m\u001B[1;33m[\u001B[0m\u001B[1;34m'手机'\u001B[0m\u001B[1;33m]\u001B[0m\u001B[1;33m)\u001B[0m\u001B[1;33m\u001B[0m\u001B[1;33m\u001B[0m\u001B[0m\n\u001B[0m",
      "\u001B[1;32m~\\anaconda3\\lib\\site-packages\\gensim\\corpora\\dictionary.py\u001B[0m in \u001B[0;36m__getitem__\u001B[1;34m(self, tokenid)\u001B[0m\n\u001B[0;32m    114\u001B[0m             \u001B[1;31m# recompute id->word accordingly\u001B[0m\u001B[1;33m\u001B[0m\u001B[1;33m\u001B[0m\u001B[1;33m\u001B[0m\u001B[0m\n\u001B[0;32m    115\u001B[0m             \u001B[0mself\u001B[0m\u001B[1;33m.\u001B[0m\u001B[0mid2token\u001B[0m \u001B[1;33m=\u001B[0m \u001B[0mutils\u001B[0m\u001B[1;33m.\u001B[0m\u001B[0mrevdict\u001B[0m\u001B[1;33m(\u001B[0m\u001B[0mself\u001B[0m\u001B[1;33m.\u001B[0m\u001B[0mtoken2id\u001B[0m\u001B[1;33m)\u001B[0m\u001B[1;33m\u001B[0m\u001B[1;33m\u001B[0m\u001B[0m\n\u001B[1;32m--> 116\u001B[1;33m         \u001B[1;32mreturn\u001B[0m \u001B[0mself\u001B[0m\u001B[1;33m.\u001B[0m\u001B[0mid2token\u001B[0m\u001B[1;33m[\u001B[0m\u001B[0mtokenid\u001B[0m\u001B[1;33m]\u001B[0m  \u001B[1;31m# will throw for non-existent ids\u001B[0m\u001B[1;33m\u001B[0m\u001B[1;33m\u001B[0m\u001B[0m\n\u001B[0m\u001B[0;32m    117\u001B[0m \u001B[1;33m\u001B[0m\u001B[0m\n\u001B[0;32m    118\u001B[0m     \u001B[1;32mdef\u001B[0m \u001B[0m__iter__\u001B[0m\u001B[1;33m(\u001B[0m\u001B[0mself\u001B[0m\u001B[1;33m)\u001B[0m\u001B[1;33m:\u001B[0m\u001B[1;33m\u001B[0m\u001B[1;33m\u001B[0m\u001B[0m\n",
      "\u001B[1;31mKeyError\u001B[0m: 'token2id'"
     ]
    }
   ],
   "source": [
    "# print(dictionary['token2id']['手机'])"
   ],
   "metadata": {
    "collapsed": false,
    "pycharm": {
     "name": "#%%\n"
    }
   }
  },
  {
   "cell_type": "code",
   "execution_count": 36,
   "outputs": [
    {
     "name": "stderr",
     "output_type": "stream",
     "text": [
      "C:\\Users\\16691\\anaconda3\\lib\\site-packages\\ipykernel\\ipkernel.py:287: DeprecationWarning: `should_run_async` will not call `transform_cell` automatically in the future. Please pass the result to `transformed_cell` argument and any exception that happen during thetransform in `preprocessing_exc_tuple` in IPython 7.17 and above.\n",
      "  and should_run_async(code)\n"
     ]
    }
   ],
   "source": [
    "topic_num=10\n",
    "info_path='./data/'\n",
    "lda= gensim.models.ldamodel.LdaModel(corpus=corpus,id2word=dictionary,num_topics=topic_num,iterations=iterations)\n",
    "lda.save(f'{info_path}lda_one_document_model')\n",
    "lda.save(f'{info_path}lda_model')\n",
    "# lda = LdaModel.load(f'{info_path}lda_one_document_model')"
   ],
   "metadata": {
    "collapsed": false,
    "pycharm": {
     "name": "#%%\n"
    }
   }
  },
  {
   "cell_type": "code",
   "execution_count": 35,
   "outputs": [
    {
     "name": "stderr",
     "output_type": "stream",
     "text": [
      "C:\\Users\\16691\\anaconda3\\lib\\site-packages\\ipykernel\\ipkernel.py:287: DeprecationWarning: `should_run_async` will not call `transform_cell` automatically in the future. Please pass the result to `transformed_cell` argument and any exception that happen during thetransform in `preprocessing_exc_tuple` in IPython 7.17 and above.\n",
      "  and should_run_async(code)\n",
      "127.0.0.1 - - [05/Jan/2021 10:56:07] \"GET / HTTP/1.1\" 200 -\n",
      "127.0.0.1 - - [05/Jan/2021 10:56:07] \"GET /LDAvis.css HTTP/1.1\" 200 -\n",
      "127.0.0.1 - - [05/Jan/2021 10:56:07] \"GET /d3.js HTTP/1.1\" 200 -\n",
      "127.0.0.1 - - [05/Jan/2021 10:56:07] \"GET /LDAvis.js HTTP/1.1\" 200 -\n"
     ]
    },
    {
     "name": "stdout",
     "output_type": "stream",
     "text": [
      "\n",
      "Note: if you're in the IPython notebook, pyLDAvis.show() is not the best command\n",
      "      to use. Consider using pyLDAvis.display(), or pyLDAvis.enable_notebook().\n",
      "      See more information at http://pyLDAvis.github.io/quickstart.html .\n",
      "\n",
      "You must interrupt the kernel to end this command\n",
      "\n",
      "Serving to http://127.0.0.1:8889/    [Ctrl-C to exit]\n",
      "\n",
      "stopping Server...\n"
     ]
    }
   ],
   "source": [
    "import pyLDAvis.gensim\n",
    "\n",
    "topic_num=10\n",
    "lda= gensim.models.ldamodel.LdaModel(corpus=corpus,id2word=dictionary,num_topics=topic_num,iterations=iterations)\n",
    "lda_visual=pyLDAvis.gensim.prepare(lda, corpus, dictionary)\n",
    "pyLDAvis.show(lda_visual)\n",
    "pyLDAvis.save_html(lda_visual,f'pyLDAvis_{topic_num}.html')\n",
    "# pyLDAvis.save_json(lda_visual,f'pyLDAvis_{topic_num}.json')\n"
   ],
   "metadata": {
    "collapsed": false,
    "pycharm": {
     "name": "#%%\n"
    }
   }
  },
  {
   "cell_type": "code",
   "execution_count": 37,
   "outputs": [
    {
     "name": "stderr",
     "output_type": "stream",
     "text": [
      "C:\\Users\\16691\\anaconda3\\lib\\site-packages\\ipykernel\\ipkernel.py:287: DeprecationWarning: `should_run_async` will not call `transform_cell` automatically in the future. Please pass the result to `transformed_cell` argument and any exception that happen during thetransform in `preprocessing_exc_tuple` in IPython 7.17 and above.\n",
      "  and should_run_async(code)\n",
      "16186it [00:05, 3156.61it/s]\n"
     ]
    }
   ],
   "source": [
    "for i in range(topic_num):\n",
    "    user_all_comment[f'topic{i}_prob']=None\n",
    "for index,row in tqdm(user_all_comment.iterrows()):\n",
    "    # test_corpus = [dictionary.doc2bow(text) for text in row['token']]\n",
    "    test_corpus = dictionary.doc2bow(row['token'])\n",
    "    vector = lda[test_corpus]\n",
    "    for category,prob in vector:\n",
    "        user_all_comment.at[index,f'topic{category}_prob']=prob\n",
    "    # if index==5:\n",
    "    #     break"
   ],
   "metadata": {
    "collapsed": false,
    "pycharm": {
     "name": "#%%\n"
    }
   }
  },
  {
   "cell_type": "markdown",
   "source": [
    "# 主题关键词为graphsage 的特征"
   ],
   "metadata": {
    "collapsed": false,
    "pycharm": {
     "name": "#%% md\n"
    }
   }
  },
  {
   "cell_type": "code",
   "execution_count": 38,
   "outputs": [
    {
     "name": "stdout",
     "output_type": "stream",
     "text": [
      "0\n",
      "1\n",
      "2\n",
      "3\n",
      "4\n",
      "5\n",
      "6\n",
      "7\n",
      "8\n",
      "9\n",
      "['数据', '厉害', '9x', '高通', '壳子', 'app', '轻薄', '广告', '下降', '玩游戏', '5G', '定位', '同事', '贾跃亭', '分享', '性价比', '3g', '我用', '镜头', '流畅', '上次', '断流', '现实', '一块', '诺基亚', '唯一', '价格', '卧槽', '大厂', '选择', '竞争力', '支持', '价钱', 'S10', '重度', '去年', 'v10', '两年', '错误', '刘海', '友们', '前排', '垃圾', '大佬', '稳定版', '信号', '失灵', '电池', '声音', '模式', '截屏', '不卡', '山寨', '帖子', '你好', '哪款', '哥哥', '服务', '下巴', '英雄', '无线', '3.5', '带来', '日常', '打游戏', '农药', '不好意思', '打开', '按键', '掉电', '相比', '设置', '说话', '反馈', '评测', 'note10', '曲面', '软件', '连续', '猴子', '不到', '质量', '产品', '算了吧', '品牌', '超大', '真实', '全网', '颜值', '魅族', '发货', '官方', '骁龙', '充电', '晚上', '平时', 'xs', 'MX3', '优化', '稳定', '全家', '难受', '拿来', '设计', 'note9', '运营商', '有图', '为啥', '面前', '清理', '线上', '告诉', '电脑', '白色', '就行', '消息', '勉强', '看不到', '早就', '提供', '媒体', '玩玩', '买手机', '一点', '型号', '听说', '小时', '技术', '买个', '分钟', '成熟', '几天', '亮度', 'lcd', '耐用', 'nova', '砖头', '系统', '系列', '有钱', '楼主', '显示屏', '网页', '青春', '恶心', '退回', '屏下', '不用', '分辨率', 'iQOO', '节奏', '没电', '还行', '预售', '智商', '效果', '关注', '高配', '加油', '海军', '几次', '折叠', '颜色', '画质', '能力', '好点', '毫安', '消费者', '低配', '一看', '大法', '忽悠', '情况', '以内', 'Q10', '黑色', '京东', '肯定', '亮屏', '开机', '综合', '中国', '快充', '接口', '有人', '1080p', '塑料', '高端', '前置', '怎么回事', '耍猴', '眼睛', '不行', '雷军', '下个', '满分', '第一', '国行', '寸屏', '美国', '福袋', '谢谢', '清晰', 'Pro', '体验', '一张', '京东方', '购买', '8.0', '努比亚', '像素', '同价位', '抄袭', '手游', '自带', '照片', 'vivo', '边框', '下载', '果断', 'cpu', '玻璃', '价位', '果粉', '好看', '国内', '一台', '没用', 'v20', '差点', '确实', '朋友', '解锁', '做工', '品控', 'mate20', '打孔', '导航', '音质', '用户', '喜欢', 'mate8', '纠结', '太丑', '能用', '一加', '内存', '保值', '默默', '刺激', '通话', '自动', '两个', '版本', '缺点', '指纹识别', '黑社会', '时间', '真相', '印花', '销量', '拍照', '搞不懂', '联发科', '本来', '摄像头', '市场', '深空', '明天', '提升', '摩托罗拉', '华为', 'p30', '无所谓', '一款', '便宜', '开箱', '背景', '哈哈哈', '机吧', '尴尬', '世界', 'r7', '还好', '希望', '提示', '性能', '屏幕', '样子', '游戏', '现象', '三个', '吊打', '功能', '很大', '更新', '高点', '爆炸', '发布', '功耗', '海狗', '配置', '阉割', '2k', '学生', '索尼', '苹果', '指纹', '更好', '三星', '电影', '抢到', '表情', '好像', '麒麟', '随便', '灰色', 'K20', '预算', '芯片', '经验', '回复', '6s', '搞笑', '米粉', '红米', 'note7', 'S6', '一个月', '5.5', 'Nokia', '类型', '路过', '布斯', '旗舰', '公司', '多一点', 'OPPO', 'note3', 'pro', '高价', 'r11', '半年', '官网', '没见', '鉴定', '这是', '安卓', '未来', 'x2', '魅蓝', '耳机', '散热', '麻烦', '升级', '楼楼', '处理器', '发热', '国际', '老哥', '一句', '手感', '辣鸡', '9.0', '电信', 'nex', '5g', '成本', '断触', '小米', '黄牛', '机子', 'p20', '王者', '贴膜', '不买', '主板', '请问', '播放器', '4s', '翻车', '荣耀', '参数', '家人', '一年', '各位朋友', '最强', '线下', '战场', '续航', '降价', '耗电', '依然', '感谢', '外观', '不好', '视频', '漂亮', '最新', 'p40', 'oppo', '后置', '显示']\n",
      "403\n"
     ]
    },
    {
     "name": "stderr",
     "output_type": "stream",
     "text": [
      "C:\\Users\\16691\\anaconda3\\lib\\site-packages\\ipykernel\\ipkernel.py:287: DeprecationWarning: `should_run_async` will not call `transform_cell` automatically in the future. Please pass the result to `transformed_cell` argument and any exception that happen during thetransform in `preprocessing_exc_tuple` in IPython 7.17 and above.\n",
      "  and should_run_async(code)\n"
     ]
    }
   ],
   "source": [
    "import re\n",
    "import json\n",
    "key_word=[]\n",
    "for topic in lda.print_topics(num_words=50):\n",
    "    print(topic[0])\n",
    "    # print(re.findall('\"(.*?)\"',topic[1]))\n",
    "    key_word.extend(re.findall('\"(.*?)\"',topic[1]))\n",
    "key_word=list(set(key_word))\n",
    "print(key_word)\n",
    "print(len(key_word))\n",
    "with open('words_feature.json', 'w', encoding='utf8')as fp:\n",
    "    json.dump(key_word, fp, ensure_ascii=False)\n"
   ],
   "metadata": {
    "collapsed": false,
    "pycharm": {
     "name": "#%%\n"
    }
   }
  },
  {
   "cell_type": "code",
   "execution_count": 41,
   "outputs": [
    {
     "name": "stderr",
     "output_type": "stream",
     "text": [
      "C:\\Users\\16691\\anaconda3\\lib\\site-packages\\ipykernel\\ipkernel.py:287: DeprecationWarning: `should_run_async` will not call `transform_cell` automatically in the future. Please pass the result to `transformed_cell` argument and any exception that happen during thetransform in `preprocessing_exc_tuple` in IPython 7.17 and above.\n",
      "  and should_run_async(code)\n"
     ]
    }
   ],
   "source": [
    "user_all_comment.fillna('0',inplace=True)\n",
    "user_all_comment[[i for i in user_all_comment.columns if i not in ['token']]].to_csv(f'user_topic_prob.csv', encoding='utf_8_sig', index=False)\n",
    "\n"
   ],
   "metadata": {
    "collapsed": false,
    "pycharm": {
     "name": "#%%\n"
    }
   }
  }
 ],
 "metadata": {
  "kernelspec": {
   "display_name": "Python 3",
   "language": "python",
   "name": "python3"
  },
  "language_info": {
   "codemirror_mode": {
    "name": "ipython",
    "version": 2
   },
   "file_extension": ".py",
   "mimetype": "text/x-python",
   "name": "python",
   "nbconvert_exporter": "python",
   "pygments_lexer": "ipython2",
   "version": "2.7.6"
  }
 },
 "nbformat": 4,
 "nbformat_minor": 0
}
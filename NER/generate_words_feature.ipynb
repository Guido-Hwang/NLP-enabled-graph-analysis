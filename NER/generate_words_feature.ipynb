{
 "cells": [
  {
   "cell_type": "code",
   "execution_count": 1,
   "metadata": {
    "collapsed": true
   },
   "outputs": [],
   "source": [
    "import json\n",
    "import os\n",
    "import re\n",
    "\n",
    "import pandas as pd\n",
    "from tqdm import tqdm\n",
    "\n",
    "import NLP\n",
    "\n",
    "# 读取json文件内容,返回字典格式\n",
    "with open('words_feature.json', 'r', encoding='utf8')as fp:\n",
    "    words_feature = json.load(fp)\n",
    "data=pd.read_csv(f\"{NLP.data_path}node.csv\", usecols=['id','author_user_name'],encoding='utf_8_sig' )\n",
    "for key in words_feature:\n",
    "    data[key]=0"
   ]
  },
  {
   "cell_type": "code",
   "execution_count": 2,
   "outputs": [
    {
     "name": "stdout",
     "output_type": "stream",
     "text": [
      "--提取特征--\n",
      "['caculate_comment_sentiment.ipynb', 'caculate_sentiment_use_api.ipynb', 'comment.csv', 'concat_file', 'edge.csv', 'extract_user_from_last_floor.ipynb', 'generate_node.ipynb', 'graphsage_feats.csv', 'node.csv', 'node_info.csv', 'node_words_feature.csv', 'opinion_extract.ipynb', 'post2lda.ipynb', 'temp.csv', 'temp.ipynb', 'user_document.csv', 'user_L1.csv', 'user_L10.csv', 'user_L10_post.csv', 'user_L10_post_classify.csv', 'user_L10_post_comment.csv', 'user_L10_post_filter.csv', 'user_L11.csv', 'user_L11_post.csv', 'user_L11_post_classify.csv', 'user_L11_post_comment.csv', 'user_L11_post_filter.csv', 'user_L11_post_filter_temp.csv', 'user_L12.csv', 'user_L12_post.csv', 'user_L12_post_classify.csv', 'user_L1_post.csv', 'user_L1_post_classify.csv', 'user_L1_post_comment.csv', 'user_L1_post_filter.csv', 'user_L2.csv', 'user_L2_post.csv', 'user_L2_post_classify.csv', 'user_L2_post_comment.csv', 'user_L2_post_filter.csv', 'user_L3.csv', 'user_L3_post.csv', 'user_L3_post_classify.csv', 'user_L3_post_comment.csv', 'user_L3_post_filter.csv', 'user_L4.csv', 'user_L4_post.csv', 'user_L4_post_classify.csv', 'user_L4_post_comment.csv', 'user_L4_post_filter.csv', 'user_L5.csv', 'user_L5_post.csv', 'user_L5_post_classify.csv', 'user_L5_post_comment.csv', 'user_L5_post_filter.csv', 'user_L6.csv', 'user_L6_post.csv', 'user_L6_post_classify.csv', 'user_L6_post_comment.csv', 'user_L6_post_filter.csv', 'user_L7.csv', 'user_L7_post.csv', 'user_L7_post_classify.csv', 'user_L7_post_comment.csv', 'user_L7_post_filter.csv', 'user_L8.csv', 'user_L8_post.csv', 'user_L8_post_classify.csv', 'user_L8_post_comment.csv', 'user_L8_post_filter.csv', 'user_L9.csv', 'user_L9_post.csv', 'user_L9_post_classify.csv', 'user_L9_post_comment.csv', 'user_L9_post_filter.csv', 'user_post_comment_all.csv', 'user_post_filter_all.csv', 'user_words_feature.csv', '合并用户评论文件.ipynb']\n",
      "11\n"
     ]
    }
   ],
   "source": [
    "print('--提取特征--')\n",
    "# file_names = os.listdir(f'C:\\\\Users\\\\16691\\\\Desktop\\\\opinion_detection\\\\tieba_spider\\\\tieba_spider\\\\spiders\\\\')  # 路径\n",
    "file_names = os.listdir(f'../tieba_spider/tieba_spider/spiders/data/')  # 路径\n",
    "print(file_names)\n",
    "user_post = (re.findall(f'user_L[0-9]+_post_filter.csv', ''.join(file_names)))\n",
    "post=pd.DataFrame()\n",
    "for file in user_post:\n",
    "    file=f'{NLP.data_path}{file}'\n",
    "    post =post.append(pd.read_csv(file, encoding='utf_8_sig'))\n",
    "\n",
    "comment_file = (re.findall(f'user_L[0-9]+_post_comment.csv', ''.join(file_names)))\n",
    "print(len(comment_file))\n",
    "comment=pd.DataFrame()\n",
    "for file in comment_file:\n",
    "    file=f'{NLP.data_path}{file}'\n",
    "    comment =comment.append(pd.read_csv(file, encoding='utf_8_sig'))\n",
    "\n",
    "post['post']=post['post_title']\n",
    "comment['post']=comment['content']\n",
    "all_post=pd.concat([post[['author_user_name','post']],comment[['author_user_name','post']]],ignore_index=True)"
   ],
   "metadata": {
    "collapsed": false,
    "pycharm": {
     "name": "#%%\n"
    }
   }
  },
  {
   "cell_type": "code",
   "execution_count": 8,
   "outputs": [
    {
     "name": "stderr",
     "output_type": "stream",
     "text": [
      "100%|██████████| 16187/16187 [00:27<00:00, 593.75it/s]\n"
     ]
    }
   ],
   "source": [
    "for name,group in tqdm(all_post.groupby('author_user_name')):\n",
    "    target_str=''.join(group['post'].tolist())\n",
    "    try:\n",
    "        index= data[data['author_user_name']==str(name)].index[0]\n",
    "    except BaseException:\n",
    "        pass\n",
    "\n",
    "    for key_word in words_feature:\n",
    "        if tmp:= re.findall(f'{key_word}',target_str):\n",
    "            # data.at[index,key_word] =data.at[index,key_word]+1\n",
    "            data.at[index,key_word] =len(tmp)\n",
    "    # break"
   ],
   "metadata": {
    "collapsed": false,
    "pycharm": {
     "name": "#%%\n"
    }
   }
  },
  {
   "cell_type": "code",
   "execution_count": 9,
   "outputs": [],
   "source": [
    "data.to_csv(f'{NLP.data_path}node_words_feature.csv',index=False,encoding='utf_8_sig')\n",
    "\n"
   ],
   "metadata": {
    "collapsed": false,
    "pycharm": {
     "name": "#%%\n"
    }
   }
  }
 ],
 "metadata": {
  "kernelspec": {
   "display_name": "Python 3",
   "language": "python",
   "name": "python3"
  },
  "language_info": {
   "codemirror_mode": {
    "name": "ipython",
    "version": 2
   },
   "file_extension": ".py",
   "mimetype": "text/x-python",
   "name": "python",
   "nbconvert_exporter": "python",
   "pygments_lexer": "ipython2",
   "version": "2.7.6"
  }
 },
 "nbformat": 4,
 "nbformat_minor": 0
}
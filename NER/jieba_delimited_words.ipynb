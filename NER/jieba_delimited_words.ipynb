{
 "cells": [
  {
   "cell_type": "code",
   "execution_count": 1,
   "metadata": {
    "collapsed": true
   },
   "outputs": [],
   "source": [
    "# import hanlp\n",
    "import jieba\n",
    "import jieba.posseg\n",
    "import jieba.analyse\n",
    "# tokenizer('2018年华为mate9还值得入吗？ 不值得')\n",
    "# tagger(tokenizer('2018年华为mate9还值得入吗？ 不值得'))\n",
    "import pandas as pd\n",
    "from tqdm import tqdm\n",
    "data_path='../data/'\n",
    "# comment=pd.read_csv(f\"concat_comment.csv\", encoding='utf_8_sig' )\n",
    "concat_comment=pd.read_csv(f\"comment_emotion.csv\", encoding='utf_8_sig' )\n",
    "# concat_comment=pd.read_csv(f\"comment_delimted.csv\", encoding='utf_8_sig' )\n"
   ]
  },
  {
   "cell_type": "code",
   "execution_count": 2,
   "outputs": [],
   "source": [
    "import os\n",
    "# 创建停用词列表\n",
    "def stopwordslist():\n",
    "    stopwords = [line.strip() for line in open('stop_words.txt',encoding='UTF-8').readlines()]\n",
    "    return stopwords\n",
    "\n",
    "# 对句子进行中文分词\n",
    "def seg_depart(sentence):\n",
    "    # 对文档中的每一行进行中文分词\n",
    "    sentence_depart = jieba.cut(sentence.strip())\n",
    "    outstr = ''\n",
    "    # 去停用词\n",
    "    for word in sentence_depart:\n",
    "        if word not in stopwords:\n",
    "            if word != '\\t':\n",
    "                outstr += word\n",
    "                outstr += \" \"\n",
    "    return outstr\n",
    "\n",
    "# 创建一个停用词列表\n",
    "stopwords = stopwordslist()\n"
   ],
   "metadata": {
    "collapsed": false,
    "pycharm": {
     "name": "#%%\n"
    }
   }
  },
  {
   "cell_type": "code",
   "execution_count": 3,
   "outputs": [
    {
     "name": "stderr",
     "output_type": "stream",
     "text": [
      "0it [00:00, ?it/s]Building prefix dict from the default dictionary ...\n",
      "Loading model from cache C:\\Users\\16691\\AppData\\Local\\Temp\\jieba.cache\n",
      "Loading model cost 0.667 seconds.\n",
      "Prefix dict has been built succesfully.\n",
      "49522it [00:44, 1118.88it/s]\n"
     ]
    },
    {
     "name": "stdout",
     "output_type": "stream",
     "text": [
      "ok\n"
     ]
    }
   ],
   "source": [
    "# user_list[name]=set(group['author_user_name'])\n",
    "_sentences = concat_comment['sentences'].values.tolist()\n",
    "### delimiting  words to the file\n",
    "# with open(f'comment_delimited.txt', 'w', encoding='UTF-8') as fp:\n",
    "#     for line in tqdm(_sentences):\n",
    "#         line_seg = seg_depart(line)\n",
    "#         fp.write(line_seg + '\\n')\n",
    "concat_comment['token']=None\n",
    "for index,row in tqdm(concat_comment.iterrows()):\n",
    "    line_seg = seg_depart(row['sentences'])\n",
    "    concat_comment.at[index,'token']=line_seg\n",
    "\n",
    "print('ok')"
   ],
   "metadata": {
    "collapsed": false,
    "pycharm": {
     "name": "#%%\n"
    }
   }
  },
  {
   "cell_type": "code",
   "execution_count": 4,
   "outputs": [],
   "source": [
    "concat_comment.to_csv(f'comment_delimted.csv', encoding='utf_8_sig', index=False)"
   ],
   "metadata": {
    "collapsed": false,
    "pycharm": {
     "name": "#%%\n"
    }
   }
  },
  {
   "cell_type": "markdown",
   "source": [
    "# lda"
   ],
   "metadata": {
    "collapsed": false,
    "pycharm": {
     "name": "#%% md\n"
    }
   }
  },
  {
   "cell_type": "code",
   "execution_count": 12,
   "outputs": [
    {
     "name": "stdout",
     "output_type": "stream",
     "text": [
      "author_user_name                                          这样的问题就不会困扰了\n",
      "bar_name                                                           {}\n",
      "reply               ['为什么', '没有', '2008', '版', '的', 'qq', '啊', '，'...\n",
      "reply_content                                                     NaN\n",
      "sentences                                                         NaN\n",
      "comment_tag                                                       NaN\n",
      "token                                                             NaN\n",
      "Name: 18310, dtype: object\n"
     ]
    }
   ],
   "source": [],
   "metadata": {
    "collapsed": false,
    "pycharm": {
     "name": "#%%\n"
    }
   }
  }
 ],
 "metadata": {
  "kernelspec": {
   "display_name": "Python 3",
   "language": "python",
   "name": "python3"
  },
  "language_info": {
   "codemirror_mode": {
    "name": "ipython",
    "version": 2
   },
   "file_extension": ".py",
   "mimetype": "text/x-python",
   "name": "python",
   "nbconvert_exporter": "python",
   "pygments_lexer": "ipython2",
   "version": "2.7.6"
  }
 },
 "nbformat": 4,
 "nbformat_minor": 0
}
{
 "cells": [
  {
   "cell_type": "code",
   "execution_count": 37,
   "outputs": [],
   "source": [
    "import cluster\n",
    "import pandas as pd\n",
    "import matplotlib.pyplot as plt\n",
    "import seaborn as sns\n",
    "from tqdm import tqdm\n",
    "%matplotlib inline\n",
    "plt.style.use({'figure.figsize':(12, 12)}) # 画布大小\n",
    "sns.set_style('whitegrid')  # 风格样式\n",
    "# 支持中文\n",
    "plt.rcParams['font.sans-serif'] = ['SimHei']  # 用来正常显示中文标签\n",
    "plt.rcParams['axes.unicode_minus'] = False  # 用来正常显示负号\n"
   ],
   "metadata": {
    "collapsed": false,
    "pycharm": {
     "name": "#%%\n"
    }
   }
  },
  {
   "cell_type": "code",
   "execution_count": 3,
   "outputs": [],
   "source": [
    "data_path=cluster.data_path\n",
    "info_path=cluster.info_path\n",
    "node= pd.read_csv(f'{data_path}node.csv',encoding='utf_8_sig')\n",
    "result= pd.read_csv(f'./data/kmeans_result.csv',encoding='utf_8_sig')"
   ],
   "metadata": {
    "collapsed": false,
    "pycharm": {
     "name": "#%%\n"
    }
   }
  },
  {
   "cell_type": "code",
   "source": [
    "print('ok')\n",
    "node=pd.merge(left=node,right=result,left_on='id',right_on='id')\n",
    "# node['pagerank']=pd.read_csv('node_pagerank.csv',usecols=['pageranks'])"
   ],
   "metadata": {
    "collapsed": false,
    "pycharm": {
     "name": "#%%\n"
    }
   },
   "execution_count": 4,
   "outputs": [
    {
     "name": "stdout",
     "output_type": "stream",
     "text": [
      "ok\n"
     ]
    }
   ]
  },
  {
   "cell_type": "markdown",
   "source": [
    "# 不同类别人的词云"
   ],
   "metadata": {
    "collapsed": false,
    "pycharm": {
     "name": "#%% md\n"
    }
   }
  },
  {
   "cell_type": "code",
   "source": [
    "# tag=node[~node['prop_adj_list'].isna()]['prop_adj_list'].tolist()\n",
    "from tqdm import tqdm\n",
    "import wordcloud\n",
    "for name,group in tqdm(node.groupby('cluster_result')):\n",
    "    tag=[]\n",
    "    for cell in group[~group['prop_adj_list'].isna()]['prop_adj_list']:\n",
    "        tag.extend(eval(cell))\n",
    "    # tag=list(set(tag))\n",
    "    if not len(tag):\n",
    "        continue\n",
    "    w_str=' '.join(tag)\n",
    "    w=wordcloud.WordCloud(font_path='c:\\windows\\Fonts\\simhei.ttf',background_color='white',     )\n",
    "    w.generate(w_str)\n",
    "    plt.show()\n",
    "    w.to_file(f'{cluster.info_path}user{name}_battery_word_cloud.png')"
   ],
   "metadata": {
    "collapsed": false,
    "pycharm": {
     "name": "#%%\n"
    }
   },
   "execution_count": null,
   "outputs": []
  },
  {
   "cell_type": "markdown",
   "source": [
    "# 分词看不同人主要讨论什么"
   ],
   "metadata": {
    "collapsed": false,
    "pycharm": {
     "name": "#%% md\n"
    }
   }
  },
  {
   "cell_type": "code",
   "execution_count": 5,
   "outputs": [
    {
     "name": "stderr",
     "output_type": "stream",
     "text": [
      "Building prefix dict from the default dictionary ...\n",
      "Dumping model to file cache C:\\Users\\16691\\AppData\\Local\\Temp\\jieba.cache\n",
      "Loading model cost 0.776 seconds.\n",
      "Prefix dict has been built succesfully.\n"
     ]
    }
   ],
   "source": [
    "import re\n",
    "import jieba\n",
    "tag=[]\n",
    "for cell in node[~node['prop_adj_list'].isna()]['prop_adj_list']:\n",
    "    tag.extend(eval(cell))\n",
    "tag=list(set(tag))\n",
    "tag=[i for i in tag if re.findall(u\"[\\u4e00-\\u9fa5]+\",i)]\n",
    "\n",
    "\n",
    "# 对句子进行中文分词\n",
    "def seg_depart(sentence):\n",
    "    # 对文档中的每一行进行中文分词\n",
    "    sentence_depart = jieba.cut(sentence.strip())\n",
    "    tmp=[]\n",
    "    for word in sentence_depart:\n",
    "        tmp.append(word)\n",
    "    return tmp\n",
    "component=[]\n",
    "for t in tag:\n",
    "    sentence_depart = jieba.cut(t.strip())\n",
    "    for word in sentence_depart:\n",
    "        component.append(word)\n",
    "        break\n",
    "component=list(set(component))\n",
    "component = [token for token in component if len(token) > 1]"
   ],
   "metadata": {
    "collapsed": false,
    "pycharm": {
     "name": "#%%\n"
    }
   }
  },
  {
   "cell_type": "code",
   "execution_count": 6,
   "outputs": [
    {
     "name": "stdout",
     "output_type": "stream",
     "text": [
      "['版本', '噪点', '定位', '触屏', '白色', '颜色', '种类', '电源', '日期', '声音', '物流', '颗粒感', '待机', 'pro', '内存', '返回', '价格低', '内置', '指纹识别', '功能强大', '做工', '速度慢', '产品', '机身', '手机', '问题', '界面', '价格昂贵', '魅族', '差距', '寿命长', '音效', '能力', 'wifi', '耗电', '小米', '待机时间', '耳机', '图片', '质量', '处理器', '摄像', '屏幕', '指纹', '质感', '表现出色', '音量', '工艺', '销量', '机型', '战果', '天气', '后盖', '诺基亚', '缝隙', '充电', '电池', '配件', '费电', '垃圾', '像素', '网速慢', '接口', '使用寿命', '效率高', '总体', '电量', '发热量', '价格便宜', '软件', '兼容性', '售后服务', '主板', '照片', '驱动', '锁屏', '光线', '续航', '风扇', '内存不足', '眼睛', '音质', '海狗', '货源充足', '兼容', '机器', '温度', '功能', '掉电', '提升', '外表', '电池容量', 'mx6', '发热', '蓝牙', '使用方便', '运行', '表现', '开机', '边框', '品牌', '画质', '操作系统', '技术', '外观', '网络', '华为', '毛病', '手感', '显示屏', '体验', '价位', '容量', '配置', '环境', '成本', '优化', '流量', '显示', '颜值', '网速', '动画', '机子', '效果', '上网', '清晰度', '商品', '自拍', '功耗', '黑色', '三星', '分辨率', '刷机', '通话', '生日快乐', '下载速度', '硬件', '打字', '性价', '价格', '打字速度', '手机电池', '输入法', '玩游戏', '按键', '性能', '海军', '价格公道', '售价', '客服', '看着', '反应', '颗粒', '应用', '发货', '拍照', '性价比', '口碑', '厂家', '散热', '参数', '色彩', '腾讯', '价低', '牌子', '空间', '喇叭', '型号', '成绩', '东西', '探速', '使用', '携带方便', '听筒', '紫色', '感觉', '字体', '游戏', '视频', '摄像头', '主题', '电脑', '屏好', '官网', '联想', '相机', '苹果', '快递', '设计', '广告', '信号', '服务', '重量', '系统', '速度', '小毛病', '亮度', '风格', '网站', '细节']\n"
     ]
    }
   ],
   "source": [
    "import json\n",
    "print(component)\n",
    "with open('component.json', 'w', encoding='utf8')as fp:\n",
    "    json.dump(component, fp, ensure_ascii=False)\n"
   ],
   "metadata": {
    "collapsed": false,
    "pycharm": {
     "name": "#%%\n"
    }
   }
  },
  {
   "cell_type": "code",
   "source": [
    "import re\n",
    "tmp=[]\n",
    "for key in component:\n",
    "    if re.search('电|续航',key):\n",
    "        tmp.append(key)\n",
    "print(tmp)"
   ],
   "metadata": {
    "collapsed": false,
    "pycharm": {
     "name": "#%%\n"
    }
   },
   "execution_count": 31,
   "outputs": [
    {
     "name": "stdout",
     "output_type": "stream",
     "text": [
      "['电源', '耗电', '充电', '电池', '费电', '电量', '续航', '掉电', '电池容量', '手机电池', '电脑']\n"
     ]
    }
   ]
  },
  {
   "cell_type": "markdown",
   "source": [
    "# 找出关于电池的帖子\n",
    "# 统计不同人群的满意度"
   ],
   "metadata": {
    "collapsed": false,
    "pycharm": {
     "name": "#%% md\n"
    }
   }
  },
  {
   "cell_type": "code",
   "execution_count": 39,
   "outputs": [
    {
     "name": "stdout",
     "output_type": "stream",
     "text": [
      "--提取特征--\n",
      "['caculate_comment_sentiment.ipynb', 'caculate_sentiment_use_api.ipynb', 'comment.csv', 'edge.csv', 'extract_user_from_last_floor.ipynb', 'generate_node.ipynb', 'graphsage_feats.csv', 'node.csv', 'opinion_extract.ipynb', 'post2lda.ipynb', 'temp.csv', 'temp.ipynb', 'user_document.csv', 'user_L1.csv', 'user_L10.csv', 'user_L10_post.csv', 'user_L10_post_classify.csv', 'user_L10_post_comment.csv', 'user_L10_post_filter.csv', 'user_L11.csv', 'user_L11_post.csv', 'user_L11_post_classify.csv', 'user_L11_post_comment.csv', 'user_L11_post_filter.csv', 'user_L11_post_filter_temp.csv', 'user_L12.csv', 'user_L12_post.csv', 'user_L1_post.csv', 'user_L1_post_classify.csv', 'user_L1_post_comment.csv', 'user_L1_post_filter.csv', 'user_L2.csv', 'user_L2_post.csv', 'user_L2_post_classify.csv', 'user_L2_post_comment.csv', 'user_L2_post_filter.csv', 'user_L3.csv', 'user_L3_post.csv', 'user_L3_post_classify.csv', 'user_L3_post_comment.csv', 'user_L3_post_filter.csv', 'user_L4.csv', 'user_L4_post.csv', 'user_L4_post_classify.csv', 'user_L4_post_comment.csv', 'user_L4_post_filter.csv', 'user_L5.csv', 'user_L5_post.csv', 'user_L5_post_classify.csv', 'user_L5_post_comment.csv', 'user_L5_post_filter.csv', 'user_L6.csv', 'user_L6_post.csv', 'user_L6_post_classify.csv', 'user_L6_post_comment.csv', 'user_L6_post_filter.csv', 'user_L7.csv', 'user_L7_post.csv', 'user_L7_post_classify.csv', 'user_L7_post_comment.csv', 'user_L7_post_filter.csv', 'user_L8.csv', 'user_L8_post.csv', 'user_L8_post_classify.csv', 'user_L8_post_comment.csv', 'user_L8_post_filter.csv', 'user_L9.csv', 'user_L9_post.csv', 'user_L9_post_classify.csv', 'user_L9_post_comment.csv', 'user_L9_post_filter.csv', 'user_words_feature.csv']\n",
      "11\n"
     ]
    }
   ],
   "source": [
    "import os\n",
    "print('--提取特征--')\n",
    "# file_names = os.listdir(f'C:\\\\Users\\\\16691\\\\Desktop\\\\opinion_detection\\\\tieba_spider\\\\tieba_spider\\\\spiders\\\\')  # 路径\n",
    "file_names = os.listdir(f'../tieba_spider/tieba_spider/spiders/data/')  # 路径\n",
    "print(file_names)\n",
    "user_post = (re.findall(f'user_L[0-9]+_post_filter.csv', ''.join(file_names)))\n",
    "print(len(user_post))\n",
    "post=pd.DataFrame()\n",
    "for file in user_post:\n",
    "    file=f'{cluster.data_path}{file}'\n",
    "    post =post.append(pd.read_csv(file, encoding='utf_8_sig'))"
   ],
   "metadata": {
    "collapsed": false,
    "pycharm": {
     "name": "#%%\n"
    }
   }
  },
  {
   "cell_type": "code",
   "source": [
    "# comment_file = (re.findall(f'user_L[0-9]+_post_comment.csv', ''.join(file_names)))\n",
    "comment = pd.read_csv('comment.csv')\n",
    "# print(len(comment_file))\n",
    "# comment=pd.DataFrame()\n",
    "# for file in comment_file:\n",
    "#     file=f'{cluster.data_path}{file}'\n",
    "#     comment =comment.append(pd.read_csv(file, encoding='utf_8_sig'))\n",
    "comment.drop(comment[comment['author_user_name']==comment['reply2user']].index,inplace=True)\n",
    "comment.reset_index(inplace=True,drop=True)\n",
    "\n",
    "post=pd.merge(left=post,right=node[['author_user_name','cluster_result']],left_on='author_user_name',right_on='author_user_name',how='left')\n",
    "post.reset_index(inplace=True,drop=True)"
   ],
   "metadata": {
    "collapsed": false,
    "pycharm": {
     "name": "#%%\n"
    }
   },
   "execution_count": 40,
   "outputs": []
  },
  {
   "cell_type": "markdown",
   "source": [
    "# 提取出来"
   ],
   "metadata": {
    "collapsed": false,
    "pycharm": {
     "name": "#%% md\n"
    }
   }
  },
  {
   "cell_type": "code",
   "execution_count": 72,
   "outputs": [
    {
     "name": "stderr",
     "output_type": "stream",
     "text": [
      "100%|██████████| 3/3 [00:08<00:00,  2.78s/it]\n"
     ]
    },
    {
     "data": {
      "text/plain": "<Figure size 864x864 with 1 Axes>",
      "image/png": "[encoded data removed]"
     },
     "metadata": {},
     "output_type": "display_data"
    },
    {
     "data": {
      "text/plain": "<Figure size 864x864 with 1 Axes>",
      "image/png": "[encoded data removed]"
     },
     "metadata": {},
     "output_type": "display_data"
    },
    {
     "data": {
      "text/plain": "<Figure size 864x864 with 1 Axes>",
      "image/png": "[encoded data removed]"
     },
     "metadata": {},
     "output_type": "display_data"
    }
   ],
   "source": [
    "from snownlp import SnowNLP\n",
    "battery_component=['电池', '电量', '掉电', '手机电池', '费电', '电源', '耗电', '充电', '电池容量']\n",
    "battery_post_id_list=[]\n",
    "for name,group in tqdm(post.groupby( 'cluster_result')):\n",
    "    reg='|'.join(battery_component)\n",
    "    # print(group[group['prop_adj_list'].str.contains(f'{reg}')])\n",
    "    battery_post_id_list=group[group['prop_adj_list'].str.contains(f'{reg}')]['post_id'].tolist()\n",
    "    battery_post_sentiment_list=group[group['prop_adj_list'].str.contains(f'{reg}')]['sentiment_list'].apply(lambda x:eval(x)).tolist()\n",
    "    battery_post_sentiment_list=[i[0] for i in battery_post_sentiment_list]\n",
    "    # break\n",
    "    battery_pd=pd.DataFrame()\n",
    "    for post_id in battery_post_id_list:\n",
    "        battery_pd=battery_pd.append(comment[comment['post_id']==post_id])\n",
    "    battery_pd.reset_index(inplace=True,drop=True)\n",
    "    # 计算\n",
    "    battery_pd['score']=None\n",
    "    battery_pd['sentiment']=None\n",
    "    for index,row in battery_pd.iterrows():\n",
    "        battery_pd.at[index,'score']=SnowNLP(row['content']).sentiments\n",
    "    battery_pd.loc[battery_pd['score']>=0.7,'sentiment']=1\n",
    "    battery_pd.loc[battery_pd[(0.3<battery_pd['score'])&(battery_pd['score']<0.7)].index,'sentiment']=0\n",
    "    battery_pd.loc[battery_pd['score']<=0.3,'sentiment']=-1\n",
    "\n",
    "    # 根据帖子的极性进行反转\n",
    "    for post_id,origin_sentiment in zip(battery_post_id_list,battery_post_sentiment_list):\n",
    "        if origin_sentiment==0:\n",
    "            battery_pd.loc[battery_pd[battery_pd['post_id']==post_id].index,'sentiment']=[-1*i for i in battery_pd[battery_pd['post_id']==post_id]['sentiment'].values]\n",
    "    sns.countplot(data=battery_pd,x='sentiment')\n",
    "    plt.title(f'user{name}_battery_sentiment')\n",
    "    plt.savefig(f'{cluster.info_path}user{int(name)}_battery_sentiment.png')\n",
    "    plt.show()\n",
    "    # break\n"
   ],
   "metadata": {
    "collapsed": false,
    "pycharm": {
     "name": "#%%\n"
    }
   }
  },
  {
   "cell_type": "code",
   "execution_count": 64,
   "outputs": [
    {
     "name": "stdout",
     "output_type": "stream",
     "text": [
      "[-1 0 0 -1 0 0 -1 -1 0 0 -1 0 0 -1]\n",
      "Int64Index([  650,   651,   652, 11051, 11052, 11053, 11054,   650,   651,\n",
      "              652, 11051, 11052, 11053, 11054],\n",
      "           dtype='int64')\n",
      "[1, 0, 0, 1, 0, 0, 1, 1, 0, 0, 1, 0, 0, 1]\n"
     ]
    }
   ],
   "source": [
    "print( battery_pd[battery_pd['post_id']==post_id]['sentiment'].values)\n",
    "print(battery_pd[battery_pd['post_id']==post_id].index)\n",
    "print([-1*i for i in battery_pd[battery_pd['post_id']==post_id]['sentiment'].values])"
   ],
   "metadata": {
    "collapsed": false,
    "pycharm": {
     "name": "#%%\n"
    }
   }
  },
  {
   "cell_type": "markdown",
   "source": [
    "# 屏幕|外观|价格"
   ],
   "metadata": {
    "collapsed": false
   }
  },
  {
   "cell_type": "code",
   "execution_count": 56,
   "outputs": [
    {
     "name": "stdout",
     "output_type": "stream",
     "text": [
      "['电源', '耗电', '充电', '电池', '费电', '电量', '续航', '掉电', '电池容量', '手机电池']\n",
      "['触屏', '颗粒感', '屏幕', '像素', '锁屏', '画质', '显示屏', '清晰度', '分辨率', '颗粒', '视频', '屏好', '亮度']\n",
      "['外表', '边框', '外观', '颜值', '看着']\n",
      "['价格低', '价格昂贵', '价格便宜', '价格', '价格公道', '性价比']\n",
      "['摄像', '照片', '自拍', '拍照', '摄像头']\n"
     ]
    }
   ],
   "source": [
    "phone_features={}\n",
    "\n",
    "tmp=[]\n",
    "for key in component:\n",
    "    if re.search('电|续航|烫',key):\n",
    "        tmp.append(key)\n",
    "tmp.remove('电脑')\n",
    "print(tmp)\n",
    "phone_features['电池']=tmp\n",
    "\n",
    "tmp=[]\n",
    "for key in component:\n",
    "    if re.search('屏|清|视|亮|颗粒|画质|像素|分辨率',key):\n",
    "        tmp.append(key)\n",
    "print(tmp)\n",
    "phone_features['屏幕']=tmp\n",
    "\n",
    "tmp=[]\n",
    "for key in component:\n",
    "    if re.search('外|看|厚|边框|颜值',key):\n",
    "        tmp.append(key)\n",
    "print(tmp)\n",
    "phone_features['外观']=tmp\n",
    "\n",
    "tmp=[]\n",
    "for key in component:\n",
    "    if re.search('价格|性价比',key):\n",
    "        tmp.append(key)\n",
    "print(tmp)\n",
    "phone_features['价格']=tmp\n",
    "\n",
    "tmp=[]\n",
    "for key in component:\n",
    "    if re.search('拍|摄|照',key):\n",
    "        tmp.append(key)\n",
    "print(tmp)\n",
    "phone_features['照相']=tmp"
   ],
   "metadata": {
    "collapsed": false,
    "pycharm": {
     "name": "#%%\n"
    }
   }
  },
  {
   "cell_type": "markdown",
   "source": [
    "# 第一类人没有观点"
   ],
   "metadata": {
    "collapsed": false,
    "pycharm": {
     "name": "#%% md\n"
    }
   }
  },
  {
   "cell_type": "code",
   "execution_count": 62,
   "outputs": [
    {
     "name": "stderr",
     "output_type": "stream",
     "text": [
      "100%|██████████| 3/3 [00:00<00:00,  6.14it/s]\n"
     ]
    },
    {
     "name": "stdout",
     "output_type": "stream",
     "text": [
      "['外表', '边框', '外观', '颜值', '看着']\n",
      "['外表', '边框', '外观', '颜值', '看着']\n",
      "['外表', '边框', '外观', '颜值', '看着']\n"
     ]
    },
    {
     "data": {
      "text/plain": "<Figure size 864x864 with 1 Axes>",
      "image/png": "[encoded data removed]"
     },
     "metadata": {},
     "output_type": "display_data"
    },
    {
     "data": {
      "text/plain": "<Figure size 864x864 with 1 Axes>",
      "image/png": "[encoded data removed]"
     },
     "metadata": {},
     "output_type": "display_data"
    }
   ],
   "source": [
    "def show_feature(target):\n",
    "    for name,group in tqdm(post.groupby('cluster_result')):\n",
    "        print(phone_features[f'{target}'])\n",
    "        reg='|'.join(phone_features[f'{target}'])\n",
    "        # print(group[group['prop_adj_list'].str.contains(f'{reg}')])\n",
    "        battery_post_id_list=group[group['prop_adj_list'].str.contains(f'{reg}')]['post_id'].tolist()\n",
    "        battery_post_sentiment_list=group[group['prop_adj_list'].str.contains(f'{reg}')]['sentiment_list'].apply(lambda x:eval(x)).tolist()\n",
    "        battery_post_sentiment_list=[i[0] for i in battery_post_sentiment_list]\n",
    "        # break\n",
    "        battery_pd=pd.DataFrame()\n",
    "        for post_id in battery_post_id_list:\n",
    "            battery_pd=battery_pd.append(comment[comment['post_id']==post_id])\n",
    "        battery_pd.reset_index(inplace=True,drop=True)\n",
    "\n",
    "\n",
    "        # 根据帖子的极性进行反转\n",
    "        for post_id,origin_sentiment in zip(battery_post_id_list,battery_post_sentiment_list):\n",
    "            if origin_sentiment==0:\n",
    "                battery_pd.loc[battery_pd[battery_pd['post_id']==post_id].index,'sentiment']=[-1*i for i in battery_pd[battery_pd['post_id']==post_id]['sentiment'].values]\n",
    "\n",
    "        if not battery_pd.shape[0]:\n",
    "            continue\n",
    "        sns.countplot(data=battery_pd,x='sentiment')\n",
    "        plt.title(f'user{name}_{target}')\n",
    "        plt.savefig(f'{cluster.info_path}user{int(name)}_{target}.png')\n",
    "        plt.show()\n",
    "# show_feature('电池')\n",
    "# show_feature('屏幕')\n",
    "# show_feature('照相')\n",
    "# show_feature('价格')\n",
    "show_feature('外观')"
   ],
   "metadata": {
    "collapsed": false,
    "pycharm": {
     "name": "#%%\n"
    }
   }
  },
  {
   "cell_type": "code",
   "execution_count": 48,
   "outputs": [
    {
     "name": "stdout",
     "output_type": "stream",
     "text": [
      "[ 3.  0.  2. nan]\n"
     ]
    }
   ],
   "source": [
    "print(post['cluster_result'].unique())\n"
   ],
   "metadata": {
    "collapsed": false,
    "pycharm": {
     "name": "#%%\n"
    }
   }
  }
 ],
 "metadata": {
  "kernelspec": {
   "display_name": "Python 3",
   "language": "python",
   "name": "python3"
  },
  "language_info": {
   "codemirror_mode": {
    "name": "ipython",
    "version": 2
   },
   "file_extension": ".py",
   "mimetype": "text/x-python",
   "name": "python",
   "nbconvert_exporter": "python",
   "pygments_lexer": "ipython2",
   "version": "2.7.6"
  }
 },
 "nbformat": 4,
 "nbformat_minor": 0
}
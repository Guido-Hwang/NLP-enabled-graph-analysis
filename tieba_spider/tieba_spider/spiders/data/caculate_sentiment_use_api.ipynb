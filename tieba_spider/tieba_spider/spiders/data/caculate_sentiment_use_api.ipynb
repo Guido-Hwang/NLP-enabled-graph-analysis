{
 "cells": [
  {
   "cell_type": "markdown",
   "source": [
    "# 计算每天的情感倾向,作为边的权重\n",
    "# 每个人可能有很多条评论,结果相加"
   ],
   "metadata": {
    "collapsed": false
   }
  },
  {
   "cell_type": "code",
   "execution_count": 1,
   "metadata": {
    "collapsed": true,
    "pycharm": {
     "name": "#%%\n"
    }
   },
   "outputs": [
    {
     "name": "stdout",
     "output_type": "stream",
     "text": [
      "11\n"
     ]
    }
   ],
   "source": [
    "import os\n",
    "import re\n",
    "import pandas as pd\n",
    "from tqdm import tqdm\n",
    "from snownlp import SnowNLP\n",
    "\n",
    "file_names = os.listdir(os.getcwd())  # 路径\n",
    "comment_file = (re.findall('user_L[0-9]+_post_comment.csv', ''.join(file_names)))\n",
    "print(len(comment_file))\n",
    "data=pd.DataFrame()\n",
    "for file in comment_file:\n",
    "    data =data.append(pd.read_csv(file, encoding='utf_8_sig'))\n",
    "\n",
    "data['content'].replace(to_replace=' ',value='',inplace=True)\n",
    "data.dropna(subset=['content'],inplace=True)\n",
    "data['sentiment']=None\n",
    "data['score']=None"
   ]
  },
  {
   "cell_type": "markdown",
   "source": [
    "# get the key of baidu api"
   ],
   "metadata": {
    "collapsed": false,
    "pycharm": {
     "name": "#%% md\n"
    }
   }
  },
  {
   "cell_type": "code",
   "execution_count": 12,
   "outputs": [
    {
     "name": "stdout",
     "output_type": "stream",
     "text": [
      "{'refresh_token': '25.c88163c0f5c12f06bcb9ddcf2fee7294.315360000.1917924559.282335-18606470', 'expires_in': 2592000, 'session_key': '9mzdWTg0XlYKZLZPI7CaeTGtvi60zSAcoIOYsVbKX6A+ctQ2UFA+LaFO2cd8gxcCyRqP/lVCcI5tR3Dj/1xbuM8LBQzoMA==', 'access_token': '24.bb5e19336b7dcd8040fd38b31127aa80.2592000.1605156559.282335-18606470', 'scope': 'brain_nlp_address public nlp_simnet nlp_wordemb nlp_comtag nlp_dnnlm_cn brain_nlp_lexer brain_all_scope brain_nlp_comment_tag brain_nlp_dnnlm_cn brain_nlp_word_emb_vec brain_nlp_word_emb_sim brain_nlp_sentiment_classify brain_nlp_simnet brain_nlp_depparser brain_nlp_wordembedding brain_nlp_dnnlm_cn_legacy brain_nlp_simnet_legacy brain_nlp_comment_tag_legacy brain_nlp_lexer_custom brain_nlp_keyword brain_nlp_topic brain_nlp_ecnet brain_nlp_emotion brain_nlp_comment_tag_custom brain_nlp_news_summary brain_nlp_sentiment_classify_custom wise_adapt lebo_resource_base lightservice_public hetu_basic lightcms_map_poi kaidian_kaidian ApsMisTest_Test权限 vis-classify_flower lpq_开放 cop_helloScope ApsMis_fangdi_permission smartapp_snsapi_base smartapp_mapp_dev_manage iop_autocar oauth_tp_app smartapp_smart_game_openapi oauth_sessionkey smartapp_swanid_verify smartapp_opensource_openapi smartapp_opensource_recapi fake_face_detect_开放Scope vis-ocr_虚拟人物助理 idl-video_虚拟人物助理 smartapp_component', 'session_secret': '707f66284779526653875f212a6c1f00'}\n",
      "{'refresh_token': '25.37ac081bb8e8476d25da6d556b43fab9.315360000.1917924559.282335-22780316', 'expires_in': 2592000, 'session_key': '9mzdCKclsdDj6vYfSbdKPR2J6nLsEnv7QBGFzDE74dtNlK1MWmHGJZ7O2+JXSKMa4WHYNPlMcN4pFeit8cnu/mloZgtlbQ==', 'access_token': '24.3c1067f9b6b44348122c8daac6ca085e.2592000.1605156559.282335-22780316', 'scope': 'public nlp_simnet nlp_wordemb nlp_comtag nlp_dnnlm_cn brain_nlp_lexer brain_all_scope brain_nlp_comment_tag brain_nlp_dnnlm_cn brain_nlp_word_emb_vec brain_nlp_word_emb_sim brain_nlp_sentiment_classify brain_nlp_simnet brain_nlp_depparser brain_nlp_wordembedding brain_nlp_dnnlm_cn_legacy brain_nlp_simnet_legacy brain_nlp_comment_tag_legacy brain_nlp_lexer_custom brain_nlp_keyword brain_nlp_topic brain_nlp_ecnet brain_nlp_emotion brain_nlp_comment_tag_custom brain_nlp_news_summary brain_nlp_sentiment_classify_custom brain_nlp_address wise_adapt lebo_resource_base lightservice_public hetu_basic lightcms_map_poi kaidian_kaidian ApsMisTest_Test权限 vis-classify_flower lpq_开放 cop_helloScope ApsMis_fangdi_permission smartapp_snsapi_base smartapp_mapp_dev_manage iop_autocar oauth_tp_app smartapp_smart_game_openapi oauth_sessionkey smartapp_swanid_verify smartapp_opensource_openapi smartapp_opensource_recapi fake_face_detect_开放Scope vis-ocr_虚拟人物助理 idl-video_虚拟人物助理 smartapp_component', 'session_secret': 'cd165d8c9ca7d7a2f7424c8b7c61944d'}\n"
     ]
    }
   ],
   "source": [
    "import requests\n",
    "import time\n",
    "access_token_list=[]\n",
    "api_key='2VyIDSSm72ikpdNvHEFuSZYE'\n",
    "client_secret='EuqOAwzQbC4oncTKDn9mcIMTRTavYeSi'\n",
    "# client_id 为官网获取的AK， client_secret 为官网获取的SK\n",
    "host = f'https://aip.baidubce.com/oauth/2.0/token?grant_type=client_credentials&client_id={api_key}&client_secret={client_secret}'\n",
    "response = requests.get(host)\n",
    "if response:\n",
    "    print(response.json())\n",
    "access_token=eval(response.text)['access_token']\n",
    "access_token_list.append(access_token)\n",
    "\n",
    "api_key='PGALriW1axDoujwcN0N2LCiD'\n",
    "client_secret='x9d7s0Iat2DQsFbmOmkz8c4ezkot4VHm'\n",
    "host = f'https://aip.baidubce.com/oauth/2.0/token?grant_type=client_credentials&client_id={api_key}&client_secret={client_secret}'\n",
    "response = requests.get(host)\n",
    "if response:\n",
    "    print(response.json())\n",
    "access_token_1=eval(response.text)['access_token']\n",
    "access_token_list.append(access_token_1)"
   ],
   "metadata": {
    "collapsed": false,
    "pycharm": {
     "name": "#%%\n"
    }
   }
  },
  {
   "cell_type": "code",
   "execution_count": 3,
   "outputs": [],
   "source": [
    "# 去除自己的回复自己的\n",
    "# data[data['author_user_name']==data['reply1user']]\n",
    "data['content']=data['content'].apply(lambda x: x.replace(' ',''))\n",
    "data.drop(data[data['author_user_name']==data['reply2user']].index,inplace=True)\n",
    "data.drop(data[data['content'].str.len()==0].index,inplace=True)\n",
    "data.reset_index(drop=True,inplace=True)"
   ],
   "metadata": {
    "collapsed": false,
    "pycharm": {
     "name": "#%%\n"
    }
   }
  },
  {
   "cell_type": "code",
   "execution_count": 4,
   "outputs": [],
   "source": [
    "import time\n",
    "# host='https://aip.baidubce.com/rpc/2.0/nlp/v2/comment_tag'\n",
    "# host=f'https://aip.baidubce.com/rpc/2.0/nlp/v2/comment_tag?access_token={access_token}'\n",
    "# battery_post['post_tag']=None\n",
    "data['sentiment_json']=None\n",
    "data['sentiment_json'].fillna('{}',inplace=True)\n",
    "data['sentiment_json']=data['sentiment_json'].apply(lambda x:eval(x))"
   ],
   "metadata": {
    "collapsed": false,
    "pycharm": {
     "name": "#%%\n"
    }
   }
  },
  {
   "cell_type": "code",
   "execution_count": 58,
   "outputs": [
    {
     "name": "stderr",
     "output_type": "stream",
     "text": [
      "18433it [00:06, 3025.75it/s] \n"
     ]
    },
    {
     "name": "stdout",
     "output_type": "stream",
     "text": [
      "Wall time: 6.1 s\n"
     ]
    }
   ],
   "source": [
    "for index,row in tqdm(data.iterrows()):\n",
    "    try:\n",
    "        if not row['sentiment_json'].get('log_id'):\n",
    "            content = {'text': row['content']}\n",
    "            host=f'https://aip.baidubce.com/rpc/2.0/nlp/v1/sentiment_classify?access_token={access_token_list[index%2]}'\n",
    "            result = requests.post(url=host,json=content)\n",
    "            data.at[index,'sentiment_json']=result.text\n",
    "            time.sleep(0.1)\n",
    "    except BaseException:\n",
    "        pass\n",
    "    # break"
   ],
   "metadata": {
    "collapsed": false,
    "pycharm": {
     "name": "#%%\n"
    }
   }
  },
  {
   "cell_type": "code",
   "execution_count": 6,
   "outputs": [],
   "source": [
    "temporary_pd=data"
   ],
   "metadata": {
    "collapsed": false,
    "pycharm": {
     "name": "#%%\n"
    }
   }
  },
  {
   "cell_type": "code",
   "execution_count": 59,
   "outputs": [
    {
     "name": "stderr",
     "output_type": "stream",
     "text": [
      "18433it [00:09, 1904.57it/s]\n"
     ]
    }
   ],
   "source": [
    "data['sentiment_json']=data['sentiment_json'].astype('str')\n",
    "data['sentiment_json']=data['sentiment_json'].apply(lambda x:eval(x))\n",
    "# 查漏补缺\n",
    "for index,row in tqdm(data.iterrows()):\n",
    "    try:\n",
    "        if row['sentiment_json'].get('error_code'):\n",
    "            content = {'text': row['content']}\n",
    "            host=f'https://aip.baidubce.com/rpc/2.0/nlp/v1/sentiment_classify?access_token={access_token_list[index%2]}'\n",
    "            result = requests.post(url=host,json=content)\n",
    "            data.at[index,'sentiment_json']=result.text\n",
    "            time.sleep(0.3)\n",
    "    except BaseException as e :\n",
    "        # print(e)\n",
    "        pass\n",
    "    # break"
   ],
   "metadata": {
    "collapsed": false,
    "pycharm": {
     "name": "#%%\n"
    }
   }
  },
  {
   "cell_type": "code",
   "execution_count": 60,
   "outputs": [
    {
     "name": "stderr",
     "output_type": "stream",
     "text": [
      "18433it [00:01, 10401.70it/s]\n"
     ]
    }
   ],
   "source": [
    "# extract the sentiment\n",
    "try:\n",
    "    data['sentiment_json']=data['sentiment_json'].apply(lambda x:eval(str(x)))\n",
    "except BaseException as e:\n",
    "    print(e)\n",
    "for index,row in tqdm(data.iterrows()):\n",
    "    try:\n",
    "        if row['sentiment_json'].get('items'):\n",
    "            data.at[index,'sentiment']=row['sentiment_json']['items'][0]['sentiment']-1\n",
    "    except BaseException as e :\n",
    "        pass"
   ],
   "metadata": {
    "collapsed": false,
    "pycharm": {
     "name": "#%%\n"
    }
   }
  },
  {
   "cell_type": "code",
   "execution_count": 65,
   "outputs": [],
   "source": [
    "data.to_csv('comment.csv',index=False,encoding='utf_8_sig')"
   ],
   "metadata": {
    "collapsed": false,
    "pycharm": {
     "name": "#%%\n"
    }
   }
  },
  {
   "cell_type": "code",
   "execution_count": 63,
   "outputs": [
    {
     "name": "stdout",
     "output_type": "stream",
     "text": [
      "author_user_name    object\n",
      "post_id              int64\n",
      "reply2user          object\n",
      "content             object\n",
      "date                object\n",
      "sentiment           object\n",
      "score               object\n",
      "sentiment_json      object\n",
      "dtype: object\n",
      "      author_user_name     post_id reply2user  \\\n",
      "993        卡卡西123456go  6086825431       果断留空   \n",
      "2634               NaN  5743818844  951540015   \n",
      "2778          敏爷ningdu  4503006921    万达王家马德里   \n",
      "5832                禮盒  4192874376     暖男欧巴丶c   \n",
      "6539           星期五荔枝先生  5883131480      紫水关银屏   \n",
      "7578          Cva11cgh  6386095531   海的西边2018   \n",
      "7602            向往西藏33  5661089725        茹李儒   \n",
      "8758     gy15603742703  6625773209   海的西边2018   \n",
      "11266          全球焦点TWO  4443446524     fhj778   \n",
      "11951         迷你168168  4443446524     fhj778   \n",
      "12170          全球焦点TWO  4443446524     fhj778   \n",
      "13041      卡卡西123456go  6086825431       果断留空   \n",
      "14146           浪漫爱情主义  5202558376     fhj778   \n",
      "15498           有时会很迷茫  6515512547       铁南南南   \n",
      "16793             se色染  6538256871     fhj778   \n",
      "\n",
      "                                                 content              date  \\\n",
      "993                                                    🐮  2020-04-22 10:14   \n",
      "2634   🐵🐵🐵🐵🐵🐵🐵🐵🐵🐵🐵🐵🐵🐵🐵🐵🐵🐵🐵🐵🐵🐵🐵🐵🐵🐵🐵🐵🐵🐵🐵🐵🐵🐵🐵🐵🐵🐵🐵🐵🐵🐵🐵🐵🐵🐵...  2018-06-12 22:24   \n",
      "2778                                                   😝  2016-04-24 17:22   \n",
      "5832                                                 Ծ̮Ծ  2015-12-02 22:36   \n",
      "6539                                               ｡◕‿◕｡  2018-09-17 15:11   \n",
      "7578                                                   👍  2019-12-13 05:56   \n",
      "7602                                                   👏  2018-04-23 06:48   \n",
      "8758                                                 ୧⍤⃝  2020-04-18 10:27   \n",
      "11266                         👍👍👍👍👍👍👍👍👍👍👍👍👍👍👍👍👍👍👍👍👍👍👍👍👍👍  2016-03-29 11:33   \n",
      "11951                                                  😄  2016-03-30 00:00   \n",
      "12170                      👍👍👍👍👍👍👍👍👍👍👍👍👍👍👍👍👍👍👍👍👍👍👍👍👍👍👍👍👍  2016-03-30 00:32   \n",
      "13041                                                  🐮  2020-04-22 10:14   \n",
      "14146                                                  😃  2017-07-09 01:03   \n",
      "15498                                         🐒🐒🐒🐒🐒🐒🐒🐒🐒🐒  2020-03-02 00:27   \n",
      "16793                                                  🍋  2020-03-12 14:21   \n",
      "\n",
      "      sentiment score                                     sentiment_json  \n",
      "993        None  None  {'log_id': 1247224288472933517, 'error_code': ...  \n",
      "2634       None  None  {'log_id': 8349781387604255469, 'error_code': ...  \n",
      "2778       None  None  {'log_id': 6906033178242362381, 'error_code': ...  \n",
      "5832       None  None  {'log_id': 8447201830213498541, 'error_code': ...  \n",
      "6539       None  None  {'log_id': 8108693611588126989, 'error_code': ...  \n",
      "7578       None  None  {'log_id': 1340934312014465773, 'error_code': ...  \n",
      "7602       None  None  {'log_id': 3617185826591424621, 'error_code': ...  \n",
      "8758       None  None  {'log_id': 3019048613098234765, 'error_code': ...  \n",
      "11266      None  None  {'log_id': 3416412195562432045, 'error_code': ...  \n",
      "11951      None  None  {'log_id': 3516373038752201485, 'error_code': ...  \n",
      "12170      None  None  {'log_id': 8213741002634412077, 'error_code': ...  \n",
      "13041      None  None  {'log_id': 5977543204309978829, 'error_code': ...  \n",
      "14146      None  None  {'log_id': 256058451053595629, 'error_code': 2...  \n",
      "15498      None  None  {'log_id': 7195341703163802861, 'error_code': ...  \n",
      "16793      None  None  {'log_id': 7833607366371971661, 'error_code': ...  \n"
     ]
    }
   ],
   "source": [
    "print(data.dtypes)\n",
    "print(data[data['sentiment']=='None'])\n",
    "tmp=(data[data['sentiment']=='None'])"
   ],
   "metadata": {
    "collapsed": false,
    "pycharm": {
     "name": "#%%\n"
    }
   }
  },
  {
   "cell_type": "code",
   "execution_count": 64,
   "outputs": [
    {
     "name": "stdout",
     "output_type": "stream",
     "text": [
      "author_user_name    object\n",
      "post_id              int64\n",
      "reply2user          object\n",
      "content             object\n",
      "date                object\n",
      "sentiment            int64\n",
      "score               object\n",
      "sentiment_json      object\n",
      "dtype: object\n"
     ]
    }
   ],
   "source": [
    "data.drop(tmp.index,inplace=True)\n",
    "data['sentiment']=data['sentiment'].astype('int64')\n",
    "print(data.dtypes)"
   ],
   "metadata": {
    "collapsed": false,
    "pycharm": {
     "name": "#%%\n"
    }
   }
  },
  {
   "cell_type": "markdown",
   "source": [
    "# 计算周围节点 对该节点的评价求和\n",
    "# 计算每个节点 对该节点的评价"
   ],
   "metadata": {
    "collapsed": false,
    "pycharm": {
     "name": "#%% md\n"
    }
   }
  },
  {
   "cell_type": "code",
   "execution_count": 66,
   "outputs": [
    {
     "name": "stderr",
     "output_type": "stream",
     "text": [
      "100%|██████████| 338/338 [00:51<00:00,  6.55it/s]\n"
     ]
    },
    {
     "name": "stdout",
     "output_type": "stream",
     "text": [
      "count    16185.000000\n",
      "mean         0.374977\n",
      "std         14.884514\n",
      "min          0.000000\n",
      "25%          0.000000\n",
      "50%          0.000000\n",
      "75%          0.000000\n",
      "max       1374.000000\n",
      "Name: sentiment_sum, dtype: float64\n",
      "count    18276.000000\n",
      "mean        -0.101280\n",
      "std          0.879047\n",
      "min         -1.000000\n",
      "25%         -1.000000\n",
      "50%          0.000000\n",
      "75%          1.000000\n",
      "max          1.000000\n",
      "Name: sentiment_classify, dtype: float64\n"
     ]
    }
   ],
   "source": [
    "node=pd.read_csv(f\"node.csv\", encoding='utf_8_sig')\n",
    "edge=pd.read_csv(f\"edge.csv\", encoding='utf_8_sig')\n",
    "node['sentiment_sum']=0\n",
    "node['sentiment_category']=0 # 取绝对值然后分类,为了方便可视化\n",
    "edge['sentiment_classify']=0 # 求和之后 进行分类 -1 0\n",
    "for name,group in tqdm(data.groupby('reply2user')):\n",
    "    # print(name,group['sentiment'].sum())\n",
    "    index= node['author_user_name']==name\n",
    "    sentiment_sum=group['sentiment'].sum()\n",
    "    if sentiment_sum>0:\n",
    "        node.at[index,'sentiment_category']=1\n",
    "    elif sentiment_sum<0:\n",
    "        node.at[index,'sentiment_category']=-1\n",
    "    else:\n",
    "        node.at[index,'sentiment_category']=0\n",
    "    node.at[index,'sentiment_sum']=abs(sentiment_sum)\n",
    "\n",
    "    for n,g in group.groupby('author_user_name'):\n",
    "        edge.loc[edge[(edge['author_user_name']==str(n))&(edge['reply2user']==str(name))].index,'sentiment_classify']=g['sentiment'].sum()\n",
    "    # break\n",
    "edge.loc[edge['sentiment_classify']>0,'sentiment_classify']=1\n",
    "edge.loc[edge['sentiment_classify']==0,'sentiment_classify']=0\n",
    "edge.loc[edge['sentiment_classify']<0,'sentiment_classify']=-1\n",
    "print(node['sentiment_sum'].describe())\n",
    "print(edge['sentiment_classify'].describe())"
   ],
   "metadata": {
    "collapsed": false,
    "pycharm": {
     "name": "#%%\n"
    }
   }
  },
  {
   "cell_type": "markdown",
   "source": [
    "# 将观点求总"
   ],
   "metadata": {
    "collapsed": false,
    "pycharm": {
     "name": "#%% md\n"
    }
   }
  },
  {
   "cell_type": "code",
   "execution_count": 67,
   "outputs": [
    {
     "name": "stdout",
     "output_type": "stream",
     "text": [
      "11\n"
     ]
    },
    {
     "name": "stderr",
     "output_type": "stream",
     "text": [
      "100%|██████████| 423/423 [00:00<00:00, 524.01it/s]\n"
     ]
    }
   ],
   "source": [
    "from ast import literal_eval\n",
    "post_file = (re.findall('user_L[0-9]+_post_filter.csv', ''.join(file_names)))\n",
    "print(len(post_file))\n",
    "post=pd.DataFrame()\n",
    "for file in post_file:\n",
    "    post =post.append(pd.read_csv(file, encoding='utf_8_sig'))\n",
    "\n",
    "node['prop_adj_list']=None\n",
    "for name,group in tqdm(post.groupby('author_user_name')):\n",
    "    tmp=[]\n",
    "    for index,row in group.iterrows():\n",
    "        tmp.extend(literal_eval(row['prop_adj_list']))\n",
    "    tmp=list(set(tmp))\n",
    "    node.at[node[node['author_user_name']==str(name)].index[0],'prop_adj_list']=tmp\n",
    "    # print(name,group['sentiment'].sum())\n"
   ],
   "metadata": {
    "collapsed": false,
    "pycharm": {
     "name": "#%%\n"
    }
   }
  },
  {
   "cell_type": "code",
   "execution_count": 69,
   "outputs": [],
   "source": [
    "# save\n",
    "node.to_csv('node.csv',index=False,encoding='utf_8_sig')\n",
    "edge.to_csv('edge.csv',index=False,encoding='utf_8_sig')\n",
    "\n",
    "\n"
   ],
   "metadata": {
    "collapsed": false,
    "pycharm": {
     "name": "#%%\n"
    }
   }
  }
 ],
 "metadata": {
  "kernelspec": {
   "display_name": "Python 3",
   "language": "python",
   "name": "python3"
  },
  "language_info": {
   "codemirror_mode": {
    "name": "ipython",
    "version": 2
   },
   "file_extension": ".py",
   "mimetype": "text/x-python",
   "name": "python",
   "nbconvert_exporter": "python",
   "pygments_lexer": "ipython2",
   "version": "2.7.6"
  }
 },
 "nbformat": 4,
 "nbformat_minor": 0
}
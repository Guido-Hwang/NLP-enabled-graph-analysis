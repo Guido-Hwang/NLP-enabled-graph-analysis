{
 "cells": [
  {
   "cell_type": "markdown",
   "source": [
    "# 合并用户 生成id\n",
    "# 生成边"
   ],
   "metadata": {
    "collapsed": false
   }
  },
  {
   "cell_type": "code",
   "execution_count": 1,
   "outputs": [
    {
     "name": "stdout",
     "output_type": "stream",
     "text": [
      "['user_L1.csv', 'user_L10.csv', 'user_L11.csv', 'user_L12.csv', 'user_L2.csv', 'user_L3.csv', 'user_L4.csv', 'user_L5.csv', 'user_L6.csv', 'user_L7.csv', 'user_L8.csv', 'user_L9.csv']\n",
      "16185\n"
     ]
    }
   ],
   "source": [
    "import pandas as pd\n",
    "from tqdm import tqdm\n",
    "import os\n",
    "import re\n",
    "\n",
    "key = 'author_user_name'\n",
    "file_names = os.listdir(os.getcwd())  # 路径\n",
    "user_file = (re.findall('user_L[0-9]+.csv', ''.join(file_names)))\n",
    "print(user_file)\n",
    "# 将用户数据合成\n",
    "exist_user_list=[]\n",
    "for file in user_file:\n",
    "    exist_user_list.extend( pd.read_csv(file, encoding='utf_8_sig', usecols=[key])[key].tolist())\n",
    "exist_user_list=set(exist_user_list)\n",
    "print(len(exist_user_list))\n",
    "user_map= {str(j): i for i, j in enumerate(exist_user_list)}"
   ],
   "metadata": {
    "collapsed": false,
    "pycharm": {
     "name": "#%%\n"
    }
   }
  },
  {
   "cell_type": "code",
   "execution_count": 2,
   "outputs": [],
   "source": [
    "node=pd.DataFrame({'id':range(len(exist_user_list)),'author_user_name':list(exist_user_list)})"
   ],
   "metadata": {
    "collapsed": false,
    "pycharm": {
     "name": "#%%\n"
    }
   }
  },
  {
   "cell_type": "markdown",
   "source": [
    "# 合并用户 生成边"
   ],
   "metadata": {
    "collapsed": false,
    "pycharm": {
     "name": "#%% md\n"
    }
   }
  },
  {
   "cell_type": "code",
   "execution_count": 3,
   "outputs": [
    {
     "name": "stdout",
     "output_type": "stream",
     "text": [
      "11\n",
      "Empty DataFrame\n",
      "Columns: [author_user_name, post_id, reply2user, content, date, source, target]\n",
      "Index: []\n",
      "Empty DataFrame\n",
      "Columns: [author_user_name, post_id, reply2user, content, date, source, target]\n",
      "Index: []\n"
     ]
    }
   ],
   "source": [
    "comment_file = (re.findall('user_L[0-9]+_post_comment.csv', ''.join(file_names)))\n",
    "print(len(comment_file))\n",
    "comment=pd.DataFrame()\n",
    "for file in comment_file:\n",
    "    comment =comment.append(pd.read_csv(file, encoding='utf_8_sig'))\n",
    "comment.dropna(subset=['author_user_name','reply2user'],inplace=True)\n",
    "comment.drop_duplicates(subset=['author_user_name','reply2user'],inplace=True)\n",
    "comment.reset_index(inplace=True,drop=True)\n",
    "# comment['source']=comment['author_user_name'].map(user_map)\n",
    "# comment['target']=comment['reply2user'].map(user_map)\n",
    "comment['source']=comment['author_user_name']\n",
    "comment['target']=comment['reply2user']\n",
    "comment['target']=comment['target'].astype('str')\n",
    "comment['source']=comment['source'].astype('str')\n",
    "comment['source']=comment['source'].map(user_map)\n",
    "comment['target']=comment['target'].map(user_map)\n",
    "comment.dropna(subset=['source','target'],inplace=True)\n",
    "print(comment[comment['source'].isna()])\n",
    "print(comment[comment['target'].isna()])\n",
    "comment['source']=comment['source'].astype('int64')\n",
    "comment['target']=comment['target'].astype('int64')"
   ],
   "metadata": {
    "collapsed": false,
    "pycharm": {
     "name": "#%%\n"
    }
   }
  },
  {
   "cell_type": "code",
   "execution_count": null,
   "outputs": [],
   "source": [
    "comment['weight']=None\n",
    "comment[['source','target','author_user_name','reply2user','weight']].to_csv('edge.csv',index=False,encoding='utf_8_sig')\n",
    "node.to_csv('node.csv',index=False,encoding='utf_8_sig')\n",
    "\n",
    "\n"
   ],
   "metadata": {
    "collapsed": false,
    "pycharm": {
     "name": "#%%\n"
    }
   }
  },
  {
   "cell_type": "code",
   "execution_count": 4,
   "outputs": [],
   "source": [
    "comment['weight']=None\n",
    "comment[['source','target','author_user_name','reply2user','weight']].to_csv('edge.csv',index=False,encoding='utf_8_sig')\n",
    "node.to_csv('node.csv',index=False,encoding='utf_8_sig')\n",
    "\n",
    "\n"
   ],
   "metadata": {
    "collapsed": false,
    "pycharm": {
     "name": "#%%\n"
    }
   }
  }
 ],
 "metadata": {
  "kernelspec": {
   "display_name": "Python 3",
   "language": "python",
   "name": "python3"
  },
  "language_info": {
   "codemirror_mode": {
    "name": "ipython",
    "version": 2
   },
   "file_extension": ".py",
   "mimetype": "text/x-python",
   "name": "python",
   "nbconvert_exporter": "python",
   "pygments_lexer": "ipython2",
   "version": "2.7.6"
  }
 },
 "nbformat": 4,
 "nbformat_minor": 0
}
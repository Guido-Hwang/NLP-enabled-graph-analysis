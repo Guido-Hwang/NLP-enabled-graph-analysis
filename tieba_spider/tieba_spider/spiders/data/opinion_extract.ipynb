{
 "cells": [
  {
   "cell_type": "code",
   "execution_count": 1,
   "outputs": [
    {
     "name": "stdout",
     "output_type": "stream",
     "text": [
      "15623\n",
      "exist\n"
     ]
    }
   ],
   "source": [
    "import pandas as pd\n",
    "from tqdm import tqdm\n",
    "# post=pd.read_csv(f\"concat_post.csv\", encoding='utf_8_sig' )\n",
    "floor=11\n",
    "post=pd.read_csv(f\"user_L{floor}_post_classify.csv\", encoding='utf_8_sig')\n",
    "# post=pd.read_csv(f\"user_L{floor}_post_filter_temp.csv\", encoding='utf_8_sig')\n",
    "post=post[post['forum_category']=='手机']\n",
    "print(post.shape[0])\n",
    "# post['post_tag']=None\n",
    "if 'post_tag' in post.columns:\n",
    "    print('exist')\n",
    "else:\n",
    "    post['post_tag']=None"
   ],
   "metadata": {
    "collapsed": false,
    "pycharm": {
     "name": "#%%\n"
    }
   }
  },
  {
   "cell_type": "code",
   "execution_count": 2,
   "outputs": [
    {
     "name": "stdout",
     "output_type": "stream",
     "text": [
      "{'refresh_token': '25.2946a91295a8e7cbc61ccea0cde7ba36.315360000.1916965502.282335-18606470', 'expires_in': 2592000, 'session_key': '9mzdDZW60L8MF2yKUmeSLStNeIU5pQ/pesDN3ynXwcQxqnIQKzqiXdTeZzmhSOkCq0jgpwnJulhd9aVqNqfAO1aEVIz8LQ==', 'access_token': '24.6ca705df1c9afe8f50ac3111196c5da1.2592000.1604197502.282335-18606470', 'scope': 'brain_nlp_address public nlp_simnet nlp_wordemb nlp_comtag nlp_dnnlm_cn brain_nlp_lexer brain_all_scope brain_nlp_comment_tag brain_nlp_dnnlm_cn brain_nlp_word_emb_vec brain_nlp_word_emb_sim brain_nlp_sentiment_classify brain_nlp_simnet brain_nlp_depparser brain_nlp_wordembedding brain_nlp_dnnlm_cn_legacy brain_nlp_simnet_legacy brain_nlp_comment_tag_legacy brain_nlp_lexer_custom brain_nlp_keyword brain_nlp_topic brain_nlp_ecnet brain_nlp_emotion brain_nlp_comment_tag_custom brain_nlp_news_summary brain_nlp_sentiment_classify_custom wise_adapt lebo_resource_base lightservice_public hetu_basic lightcms_map_poi kaidian_kaidian ApsMisTest_Test权限 vis-classify_flower lpq_开放 cop_helloScope ApsMis_fangdi_permission smartapp_snsapi_base iop_autocar oauth_tp_app smartapp_smart_game_openapi oauth_sessionkey smartapp_swanid_verify smartapp_opensource_openapi smartapp_opensource_recapi fake_face_detect_开放Scope vis-ocr_虚拟人物助理 idl-video_虚拟人物助理 smartapp_component', 'session_secret': '0e4e47cf199bd30152ff16491da788f7'}\n",
      "{'refresh_token': '25.f4ada17ab27f8169ed1f9c44c57307a4.315360000.1916965502.282335-22780316', 'expires_in': 2592000, 'session_key': '9mzdC3nPcp/P2XN3luJY9qv1hFl/QJD3fWsXalaUxIFGpLmaz7fwaVet+cfURbClf5C2GDLdflba7hMvLCzf622k/UPGJg==', 'access_token': '24.0a941f0668445d88bca546ada53c50ae.2592000.1604197502.282335-22780316', 'scope': 'public nlp_simnet nlp_wordemb nlp_comtag nlp_dnnlm_cn brain_nlp_lexer brain_all_scope brain_nlp_comment_tag brain_nlp_dnnlm_cn brain_nlp_word_emb_vec brain_nlp_word_emb_sim brain_nlp_sentiment_classify brain_nlp_simnet brain_nlp_depparser brain_nlp_wordembedding brain_nlp_dnnlm_cn_legacy brain_nlp_simnet_legacy brain_nlp_comment_tag_legacy brain_nlp_lexer_custom brain_nlp_keyword brain_nlp_topic brain_nlp_ecnet brain_nlp_emotion brain_nlp_comment_tag_custom brain_nlp_news_summary brain_nlp_sentiment_classify_custom brain_nlp_address wise_adapt lebo_resource_base lightservice_public hetu_basic lightcms_map_poi kaidian_kaidian ApsMisTest_Test权限 vis-classify_flower lpq_开放 cop_helloScope ApsMis_fangdi_permission smartapp_snsapi_base iop_autocar oauth_tp_app smartapp_smart_game_openapi oauth_sessionkey smartapp_swanid_verify smartapp_opensource_openapi smartapp_opensource_recapi fake_face_detect_开放Scope vis-ocr_虚拟人物助理 idl-video_虚拟人物助理 smartapp_component', 'session_secret': '4529aaa488e4ae420a4679eec5edc011'}\n"
     ]
    }
   ],
   "source": [
    "import requests\n",
    "import time\n",
    "access_token_list=[]\n",
    "api_key='2VyIDSSm72ikpdNvHEFuSZYE'\n",
    "client_secret='EuqOAwzQbC4oncTKDn9mcIMTRTavYeSi'\n",
    "# client_id 为官网获取的AK， client_secret 为官网获取的SK\n",
    "host = f'https://aip.baidubce.com/oauth/2.0/token?grant_type=client_credentials&client_id={api_key}&client_secret={client_secret}'\n",
    "response = requests.get(host)\n",
    "if response:\n",
    "    print(response.json())\n",
    "access_token=eval(response.text)['access_token']\n",
    "access_token_list.append(access_token)\n",
    "\n",
    "api_key='PGALriW1axDoujwcN0N2LCiD'\n",
    "client_secret='x9d7s0Iat2DQsFbmOmkz8c4ezkot4VHm'\n",
    "host = f'https://aip.baidubce.com/oauth/2.0/token?grant_type=client_credentials&client_id={api_key}&client_secret={client_secret}'\n",
    "response = requests.get(host)\n",
    "if response:\n",
    "    print(response.json())\n",
    "access_token_1=eval(response.text)['access_token']\n",
    "access_token_list.append(access_token_1)"
   ],
   "metadata": {
    "collapsed": false,
    "pycharm": {
     "name": "#%%\n"
    }
   }
  },
  {
   "cell_type": "code",
   "execution_count": 3,
   "outputs": [],
   "source": [
    "import pandas as pd\n",
    "from tqdm import tqdm\n",
    "post['post_tag'].fillna('{}',inplace=True)\n",
    "post['post_tag']=post['post_tag'].apply(lambda x:eval(x))"
   ],
   "metadata": {
    "collapsed": false,
    "pycharm": {
     "name": "#%%\n"
    }
   }
  },
  {
   "cell_type": "markdown",
   "source": [
    "# 再次观点抽取"
   ],
   "metadata": {
    "collapsed": false
   }
  },
  {
   "cell_type": "code",
   "execution_count": 14,
   "outputs": [
    {
     "name": "stderr",
     "output_type": "stream",
     "text": [
      "15623it [00:01, 7992.25it/s] \n"
     ]
    }
   ],
   "source": [
    "# host=f'https://aip.baidubce.com/rpc/2.0/nlp/v2/comment_tag?access_token={access_token}'\n",
    "# # for index,row in tqdm(post.iterrows()):\n",
    "# for index,row in tqdm(post.iterrows()):\n",
    "#     try:\n",
    "#         if row['post_tag'].get('error_code'):\n",
    "#             content = {'text': row['post_title'], 'type': 13} # 3c\n",
    "#             result = requests.post(url=host,json=content)\n",
    "#             post.at[index,'post_tag']=result.text\n",
    "#             time.sleep(0.4)\n",
    "#     except BaseException as e:\n",
    "#         pass\n",
    "    # break\n",
    "for index,row in tqdm(post.iterrows()):\n",
    "    try:\n",
    "        if row['post_tag'].get('error_code'):\n",
    "            content = {'text': row['post_title'], 'type': 13}\n",
    "            host=f'https://aip.baidubce.com/rpc/2.0/nlp/v2/comment_tag?access_token={access_token_list[index%2]}'\n",
    "            result = requests.post(url=host,json=content)\n",
    "            post.at[index,'post_tag']=result.text\n",
    "            time.sleep(0.25)\n",
    "    except BaseException:\n",
    "        pass"
   ],
   "metadata": {
    "collapsed": false,
    "pycharm": {
     "name": "#%%\n"
    }
   }
  },
  {
   "cell_type": "code",
   "execution_count": 17,
   "outputs": [
    {
     "name": "stderr",
     "output_type": "stream",
     "text": [
      "15623it [00:01, 9018.30it/s] \n"
     ]
    }
   ],
   "source": [
    "import time\n",
    "# host='https://aip.baidubce.com/rpc/2.0/nlp/v2/comment_tag'\n",
    "# host=f'https://aip.baidubce.com/rpc/2.0/nlp/v2/comment_tag?access_token={access_token}'\n",
    "# battery_post['post_tag']=None\n",
    "for index,row in tqdm(post.iterrows()):\n",
    "    try:\n",
    "        if not row['post_tag'].get('log_id'):\n",
    "            content = {'text': row['post_title'], 'type': 13}\n",
    "            host=f'https://aip.baidubce.com/rpc/2.0/nlp/v2/comment_tag?access_token={access_token_list[index%2]}'\n",
    "            result = requests.post(url=host,json=content)\n",
    "            post.at[index,'post_tag']=result.text\n",
    "            time.sleep(0.25)\n",
    "    except BaseException:\n",
    "        pass\n",
    "    # break\n",
    "temporary_pd=post"
   ],
   "metadata": {
    "collapsed": false,
    "pycharm": {
     "name": "#%%\n"
    }
   }
  },
  {
   "cell_type": "code",
   "execution_count": 5,
   "outputs": [],
   "source": [
    "# post.to_csv(f\"user_L{floor}_post_filter_temp.csv\", encoding='utf_8_sig', index=False)"
   ],
   "metadata": {
    "collapsed": false,
    "pycharm": {
     "name": "#%%\n"
    }
   }
  },
  {
   "cell_type": "code",
   "execution_count": null,
   "outputs": [],
   "source": [
    "def extract_opinion(df):\n",
    "    count=0\n",
    "    df['prop_adj_list']=None\n",
    "    df['sentiment_list']=None\n",
    "    try:\n",
    "        df['post_tag']=df['post_tag'].apply(lambda x:eval(str(x)))\n",
    "    except BaseException as e:\n",
    "        print(df['post_tag'].dtype)\n",
    "        print(df['post_tag'].isna().sum())\n",
    "        print(e)\n",
    "    for _index,_row in tqdm(df.iterrows()):\n",
    "        tmp=[]\n",
    "        tmp_sentiment=[]\n",
    "        try:\n",
    "            for cell in _row['post_tag']['items']:\n",
    "                tmp.append(cell['prop']+cell['adj'])\n",
    "                tmp_sentiment.append(cell['sentiment'])\n",
    "                count+=1\n",
    "            df.at[_index,'prop_adj_list']=tmp\n",
    "            df.at[_index,'sentiment_list']=tmp_sentiment\n",
    "        except BaseException as e:\n",
    "            print(e,_row)\n",
    "            # print(e,_row['post_tag']['error_code'])\n",
    "    print(count,'个观点')\n",
    "\n",
    "    return df\n",
    "\n",
    "tmp_pd=extract_opinion(post)"
   ],
   "metadata": {
    "collapsed": false,
    "pycharm": {
     "name": "#%%\n"
    }
   }
  },
  {
   "cell_type": "code",
   "execution_count": 20,
   "outputs": [
    {
     "name": "stderr",
     "output_type": "stream",
     "text": [
      "15623it [00:01, 8012.57it/s]\n"
     ]
    },
    {
     "name": "stdout",
     "output_type": "stream",
     "text": [
      "'items' author_user_name                                               宝宝乐752\n",
      "post_title                                                          🐮\n",
      "url                  /p/5999615046?lp=home_main_thread_pb&mo_device=1\n",
      "bar_name                                                          手机吧\n",
      "forum_category                                                     手机\n",
      "post_tag            {'log_id': 1817883952890751554, 'error_code': ...\n",
      "prop_adj_list                                                    None\n",
      "sentiment_list                                                   None\n",
      "Name: 6155, dtype: object\n",
      "'items' 282134\n",
      "1825 个观点\n"
     ]
    }
   ],
   "source": [
    "post=post[~post['sentiment_list'].isna()]\n",
    "post['sentiment_list']=post['sentiment_list'].astype('str')\n",
    "post=(post[post['sentiment_list'].str.len()>2])"
   ],
   "metadata": {
    "collapsed": false,
    "pycharm": {
     "name": "#%%\n"
    }
   }
  },
  {
   "cell_type": "code",
   "execution_count": 21,
   "outputs": [
    {
     "name": "stderr",
     "output_type": "stream",
     "text": [
      "C:\\ProgramData\\Anaconda3\\lib\\site-packages\\ipykernel_launcher.py:2: SettingWithCopyWarning: \n",
      "A value is trying to be set on a copy of a slice from a DataFrame.\n",
      "Try using .loc[row_indexer,col_indexer] = value instead\n",
      "\n",
      "See the caveats in the documentation: https://pandas.pydata.org/pandas-docs/stable/user_guide/indexing.html#returning-a-view-versus-a-copy\n",
      "  \n"
     ]
    }
   ],
   "source": [
    "post=post[~post['sentiment_list'].isna()]\n",
    "post['sentiment_list']=post['sentiment_list'].astype('str')\n",
    "post=(post[post['sentiment_list'].str.len()>2])"
   ],
   "metadata": {
    "collapsed": false,
    "pycharm": {
     "name": "#%%\n"
    }
   }
  },
  {
   "cell_type": "code",
   "execution_count": 22,
   "outputs": [
    {
     "name": "stderr",
     "output_type": "stream",
     "text": [
      "1693it [00:00, 9077.81it/s]\n"
     ]
    }
   ],
   "source": [
    "import re\n",
    "post['post_id']=None\n",
    "for index,row in tqdm(post.iterrows()):\n",
    "    post.at[index,'post_id']= re.findall('/p/([0-9]+)\\?',row['url'])[0]"
   ],
   "metadata": {
    "collapsed": false,
    "pycharm": {
     "name": "#%%\n"
    }
   }
  },
  {
   "cell_type": "code",
   "execution_count": 23,
   "outputs": [],
   "source": [
    "post.to_csv(f\"user_L{floor}_post_filter.csv\", encoding='utf_8_sig', index=False)\n",
    "\n"
   ],
   "metadata": {
    "collapsed": false,
    "pycharm": {
     "name": "#%%\n"
    }
   }
  }
 ],
 "metadata": {
  "kernelspec": {
   "display_name": "Python 3",
   "language": "python",
   "name": "python3"
  },
  "language_info": {
   "codemirror_mode": {
    "name": "ipython",
    "version": 2
   },
   "file_extension": ".py",
   "mimetype": "text/x-python",
   "name": "python",
   "nbconvert_exporter": "python",
   "pygments_lexer": "ipython2",
   "version": "2.7.6"
  }
 },
 "nbformat": 4,
 "nbformat_minor": 0
}
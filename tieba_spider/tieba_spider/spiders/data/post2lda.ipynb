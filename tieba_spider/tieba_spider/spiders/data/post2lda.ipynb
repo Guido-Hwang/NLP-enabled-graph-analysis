{
 "cells": [
  {
   "cell_type": "code",
   "execution_count": 4,
   "metadata": {
    "collapsed": true
   },
   "outputs": [
    {
     "name": "stdout",
     "output_type": "stream",
     "text": [
      "11\n",
      "11\n"
     ]
    }
   ],
   "source": [
    "import pandas as pd\n",
    "from tqdm import tqdm\n",
    "import os\n",
    "import re\n",
    "file_names = os.listdir(os.getcwd())  # 路径\n",
    "user_post = (re.findall('user_L[0-9]+_post_filter.csv', ''.join(file_names)))\n",
    "print(len(user_post))\n",
    "post=pd.DataFrame()\n",
    "for file in user_post:\n",
    "    post =post.append(pd.read_csv(file, encoding='utf_8_sig'))\n",
    "\n",
    "comment_file = (re.findall('user_L[0-9]+_post_comment.csv', ''.join(file_names)))\n",
    "print(len(comment_file))\n",
    "comment=pd.DataFrame()\n",
    "for file in comment_file:\n",
    "    comment =comment.append(pd.read_csv(file, encoding='utf_8_sig'))"
   ]
  },
  {
   "cell_type": "code",
   "execution_count": 7,
   "outputs": [],
   "source": [
    "data=[[],[]]\n",
    "data[0].extend(post['author_user_name'].tolist())\n",
    "data[0].extend(comment['author_user_name'].tolist())\n",
    "data[1].extend(post['post_title'].tolist())\n",
    "data[1].extend(comment['content'].tolist())\n",
    "# document=pd.DataFrame(data,columns=[])\n",
    "user_document=pd.DataFrame(columns=['author_user_name','sentence'])\n",
    "user_document['author_user_name']=data[0]\n",
    "user_document['sentence']=data[1]"
   ],
   "metadata": {
    "collapsed": false,
    "pycharm": {
     "name": "#%%\n"
    }
   }
  },
  {
   "cell_type": "code",
   "execution_count": 8,
   "outputs": [
    {
     "name": "stdout",
     "output_type": "stream",
     "text": [
      "16188\n"
     ]
    }
   ],
   "source": [
    "print(len(user_document['author_user_name'].unique()))"
   ],
   "metadata": {
    "collapsed": false,
    "pycharm": {
     "name": "#%%\n"
    }
   }
  },
  {
   "cell_type": "markdown",
   "source": [
    "# 合并发帖者的发帖和评论"
   ],
   "metadata": {
    "collapsed": false,
    "pycharm": {
     "name": "#%% md\n"
    }
   }
  },
  {
   "cell_type": "code",
   "execution_count": 2,
   "outputs": [
    {
     "name": "stderr",
     "output_type": "stream",
     "text": [
      "100%|██████████| 423/423 [00:01<00:00, 312.59it/s]\n"
     ]
    }
   ],
   "source": [
    "# user_document=pd.DataFrame(columns=['author_user_name','sentence'])\n",
    "# for name,group in tqdm(post.groupby('author_user_name')):\n",
    "#     # print(name)\n",
    "#     sentences=[]\n",
    "#     for index,row in group.iterrows():\n",
    "#         sentences.append(row['post_title'])\n",
    "#         sentences.extend(comment[comment['post_id']==row['post_id']]['content'].tolist())\n",
    "#     user_document =pd.concat([user_document,pd.DataFrame({'author_user_name':[name]*len(sentences),'sentence':sentences})],ignore_index=True)\n",
    "#     # break"
   ],
   "metadata": {
    "collapsed": false,
    "pycharm": {
     "name": "#%%\n"
    }
   }
  },
  {
   "cell_type": "code",
   "execution_count": 9,
   "outputs": [],
   "source": [
    "user_document.to_csv('user_document.csv',index=False,encoding='utf_8_sig')\n",
    "\n"
   ],
   "metadata": {
    "collapsed": false,
    "pycharm": {
     "name": "#%%\n"
    }
   }
  }
 ],
 "metadata": {
  "kernelspec": {
   "display_name": "Python 3",
   "language": "python",
   "name": "python3"
  },
  "language_info": {
   "codemirror_mode": {
    "name": "ipython",
    "version": 2
   },
   "file_extension": ".py",
   "mimetype": "text/x-python",
   "name": "python",
   "nbconvert_exporter": "python",
   "pygments_lexer": "ipython2",
   "version": "2.7.6"
  }
 },
 "nbformat": 4,
 "nbformat_minor": 0
}
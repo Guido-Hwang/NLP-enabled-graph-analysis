{
 "cells": [
  {
   "cell_type": "code",
   "execution_count": 1,
   "metadata": {
    "collapsed": true
   },
   "outputs": [],
   "source": [
    "import pandas as pd\n",
    "\n",
    "data=pd.read_csv('temp.csv')"
   ]
  },
  {
   "cell_type": "code",
   "execution_count": 7,
   "outputs": [
    {
     "name": "stderr",
     "output_type": "stream",
     "text": [
      "0it [00:00, ?it/s]\n"
     ]
    }
   ],
   "source": [
    "from tqdm import tqdm\n",
    "try:\n",
    "    data['sentiment_json']=data['sentiment_json'].apply(lambda x:eval(str(x)))\n",
    "except BaseException as e:\n",
    "    print(e)\n",
    "for index,row in tqdm(data.iterrows()):\n",
    "    try:\n",
    "        if row['sentiment_json'].get('items'):\n",
    "            data.at[index,'sentiment']=row['sentiment_json']['items'][0]['sentiment']-1\n",
    "    except BaseException as e :\n",
    "        print(e)\n",
    "        pass\n",
    "    break\n"
   ],
   "metadata": {
    "collapsed": false,
    "pycharm": {
     "name": "#%%\n"
    }
   }
  }
 ],
 "metadata": {
  "kernelspec": {
   "display_name": "Python 3",
   "language": "python",
   "name": "python3"
  },
  "language_info": {
   "codemirror_mode": {
    "name": "ipython",
    "version": 2
   },
   "file_extension": ".py",
   "mimetype": "text/x-python",
   "name": "python",
   "nbconvert_exporter": "python",
   "pygments_lexer": "ipython2",
   "version": "2.7.6"
  }
 },
 "nbformat": 4,
 "nbformat_minor": 0
}
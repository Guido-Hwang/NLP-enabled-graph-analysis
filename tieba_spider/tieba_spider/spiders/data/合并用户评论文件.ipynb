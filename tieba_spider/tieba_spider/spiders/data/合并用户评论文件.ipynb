{
 "cells": [
  {
   "cell_type": "markdown",
   "source": [
    "# 合并用户评论文件"
   ],
   "metadata": {
    "collapsed": false
   }
  },
  {
   "cell_type": "code",
   "execution_count": 1,
   "outputs": [
    {
     "name": "stdout",
     "output_type": "stream",
     "text": [
      "11\n",
      "28758\n",
      "28758\n"
     ]
    }
   ],
   "source": [
    "import os\n",
    "import re\n",
    "import pandas as pd\n",
    "from tqdm import tqdm\n",
    "\n",
    "file_names = os.listdir(os.getcwd())  # 路径\n",
    "comment_file = (re.findall('user_L[0-9]+_post_comment.csv', ''.join(file_names)))\n",
    "print(len(comment_file))\n",
    "data=pd.DataFrame()\n",
    "for file in comment_file:\n",
    "    data =data.append(pd.read_csv(file, encoding='utf_8_sig'))\n",
    "\n",
    "# data['content'].replace(to_replace=' ',value='',inplace=True)\n",
    "print(data.shape[0])\n",
    "data.dropna(subset=['content'],inplace=True)\n",
    "print(data.shape[0])\n",
    "data.to_csv('./concat_file/user_post_comment_all.csv',index=False,encoding='utf_8_sig')"
   ],
   "metadata": {
    "collapsed": false,
    "pycharm": {
     "name": "#%%\n"
    }
   }
  },
  {
   "cell_type": "code",
   "execution_count": 7,
   "outputs": [
    {
     "name": "stdout",
     "output_type": "stream",
     "text": [
      "11\n"
     ]
    }
   ],
   "source": [
    "comment_file = (re.findall('user_L[0-9]+_post_filter.csv', ''.join(file_names)))\n",
    "print(len(comment_file))\n",
    "data=pd.DataFrame()\n",
    "for file in comment_file:\n",
    "    data =data.append(pd.read_csv(file, encoding='utf_8_sig'))\n",
    "\n",
    "data.to_csv('./concat_file/user_post_filter_all.csv',index=False,encoding='utf_8_sig')"
   ],
   "metadata": {
    "collapsed": false,
    "pycharm": {
     "name": "#%%\n"
    }
   }
  },
  {
   "cell_type": "code",
   "execution_count": 7,
   "outputs": [],
   "source": [],
   "metadata": {
    "collapsed": false,
    "pycharm": {
     "name": "#%%\n"
    }
   }
  }
 ],
 "metadata": {
  "kernelspec": {
   "display_name": "Python 3",
   "language": "python",
   "name": "python3"
  },
  "language_info": {
   "codemirror_mode": {
    "name": "ipython",
    "version": 2
   },
   "file_extension": ".py",
   "mimetype": "text/x-python",
   "name": "python",
   "nbconvert_exporter": "python",
   "pygments_lexer": "ipython2",
   "version": "2.7.6"
  }
 },
 "nbformat": 4,
 "nbformat_minor": 0
}
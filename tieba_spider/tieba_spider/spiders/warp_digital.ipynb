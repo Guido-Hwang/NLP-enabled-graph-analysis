{
 "cells": [
  {
   "cell_type": "code",
   "execution_count": 5,
   "metadata": {
    "collapsed": true
   },
   "outputs": [],
   "source": [
    "import json\n",
    "# 读取json文件内容,返回字典格式\n",
    "with open('bar_type.json', 'r', encoding='utf8')as fp:\n",
    "    bar_type = json.load(fp)\n"
   ]
  },
  {
   "cell_type": "code",
   "execution_count": 6,
   "outputs": [
    {
     "name": "stderr",
     "output_type": "stream",
     "text": [
      "\n",
      "  0%|          | 0/587870 [00:00<?, ?it/s]\n",
      " 53%|█████▎    | 310543/587870 [00:00<00:00, 3102599.84it/s]\n",
      "100%|██████████| 587870/587870 [00:00<00:00, 3011971.75it/s]\n",
      "  0%|          | 0/3 [00:00<?, ?it/s]\n",
      "100%|██████████| 3/3 [00:00<?, ?it/s]"
     ]
    }
   ],
   "source": [
    "from tqdm import tqdm\n",
    "del_list=[]\n",
    "for key,val in tqdm(bar_type.items()):\n",
    "    if val=='电脑数码':\n",
    "        del_list.append(key)\n",
    "for key in tqdm(del_list):\n",
    "    del bar_type[key]"
   ],
   "metadata": {
    "collapsed": false,
    "pycharm": {
     "name": "#%%\n"
    }
   }
  },
  {
   "cell_type": "code",
   "execution_count": 7,
   "outputs": [],
   "source": [
    "with open('bar_type.json', 'w', encoding='utf8')as fp:\n",
    "    json.dump(bar_type, fp, ensure_ascii=False)"
   ],
   "metadata": {
    "collapsed": false,
    "pycharm": {
     "name": "#%%\n"
    }
   }
  }
 ],
 "metadata": {
  "kernelspec": {
   "display_name": "Python 3",
   "language": "python",
   "name": "python3"
  },
  "language_info": {
   "codemirror_mode": {
    "name": "ipython",
    "version": 2
   },
   "file_extension": ".py",
   "mimetype": "text/x-python",
   "name": "python",
   "nbconvert_exporter": "python",
   "pygments_lexer": "ipython2",
   "version": "2.7.6"
  }
 },
 "nbformat": 4,
 "nbformat_minor": 0
}